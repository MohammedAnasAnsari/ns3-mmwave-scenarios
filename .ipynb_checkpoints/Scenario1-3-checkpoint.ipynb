{
 "cells": [
  {
   "cell_type": "markdown",
   "metadata": {},
   "source": [
    "### This notebook can be used to analyse the files generated from scenarios 1 to 3."
   ]
  },
  {
   "cell_type": "code",
   "execution_count": 56,
   "metadata": {
    "collapsed": true
   },
   "outputs": [],
   "source": [
    "scenario_folder = 'scenario1/'"
   ]
  },
  {
   "cell_type": "code",
   "execution_count": 2,
   "metadata": {
    "collapsed": true
   },
   "outputs": [],
   "source": [
    "%matplotlib inline"
   ]
  },
  {
   "cell_type": "code",
   "execution_count": 5,
   "metadata": {
    "collapsed": false
   },
   "outputs": [],
   "source": [
    "import os\n",
    "import csv\n",
    "import pandas as pd\n",
    "import numpy as np\n",
    "import matplotlib.pylab as plt"
   ]
  },
  {
   "cell_type": "code",
   "execution_count": 6,
   "metadata": {
    "collapsed": false
   },
   "outputs": [],
   "source": [
    "from sklearn.preprocessing import LabelEncoder"
   ]
  },
  {
   "cell_type": "code",
   "execution_count": 7,
   "metadata": {
    "collapsed": true
   },
   "outputs": [],
   "source": [
    "def getRxPacketFile(eNBArray, UEArray, basefolder = ''):\n",
    "    \"\"\" Gets the RxPacketTrace file with\n",
    "    len(eNBArray) eNBs (radio base station) containers and with\n",
    "    len(UEArray) UE (user equipment) containers.\n",
    "    The filename will be for example:\n",
    "    'RxPacketTrace_e1_e2_e3_u1_u2.txt'\n",
    "    where e1, e2 and e3 are three eNB containers (representing\n",
    "    a number of antenas for container), u1 and u2 will be\n",
    "    user equipment containers, (representing for example 2 rooms\n",
    "    each with u1 and u2 user equipments respectively).\"\"\"\n",
    "    eNBString = ''\n",
    "    UEString = ''\n",
    "    if (len(eNBArray) > 0) and (len(UEArray) > 0):\n",
    "        for numENB in eNBArray:\n",
    "            eNBString = eNBString + '_' + str(numENB)\n",
    "        for numUE in UEArray:\n",
    "            UEString = UEString + '_' + str(numUE)\n",
    "    \n",
    "    \n",
    "    filename = basefolder + 'RxPacketTrace' + eNBString + UEString + '.txt'\n",
    "    if os.path.isfile(filename):\n",
    "#        rxpacketfile = open(filename, \"r\")\n",
    "#        return csv.DictReader(rxpacketfile, delimiter='\\t')\n",
    "        with open(filename, \"r\") as rxpacketfile:\n",
    "            return pd.read_csv(rxpacketfile, sep='\\t', \\\n",
    "                               names=['mode', 'time', 'frame', 'subF', '1stSym', \\\n",
    "                                   'symbol#', 'cellId', 'rnti', 'ccId', 'tbSize', 'mcs', 'rv', \\\n",
    "                                   'SINR(dB)', 'corrupt', 'TBler'], \\\n",
    "                               dtype={'mode': str}, \\\n",
    "                               index_col=1,\n",
    "                               low_memory=False,\n",
    "                               #skiprows=0,\n",
    "                               #header=0,\n",
    "                               verbose=True,\n",
    "                               \n",
    "                              )\n",
    "    else:\n",
    "        return None\n",
    "    \n",
    "\n",
    "        "
   ]
  },
  {
   "cell_type": "code",
   "execution_count": 8,
   "metadata": {
    "collapsed": false,
    "scrolled": true
   },
   "outputs": [
    {
     "data": {
      "text/plain": [
       "['.ipynb_checkpoints',\n",
       " 'paulista_back_tcp',\n",
       " 'paulista_double_tcp',\n",
       " 'paulista_tcp',\n",
       " 'scenario1',\n",
       " 'Scenario1.ipynb',\n",
       " 'Scenario10.ipynb',\n",
       " 'Scenario11.ipynb',\n",
       " 'scenario2',\n",
       " 'Scenario2.ipynb',\n",
       " 'scenario3',\n",
       " 'Scenario3.ipynb',\n",
       " 'scenario4',\n",
       " 'Scenario4.ipynb',\n",
       " 'scenario5',\n",
       " 'scenario6',\n",
       " 'scenario7',\n",
       " 'Scenario7.ipynb',\n",
       " 'Scenario8.ipynb',\n",
       " 'Scenario9.ipynb',\n",
       " 'test_10sec_5_10_15_shadow_off',\n",
       " 'test_10sec_antipodal_shadow_off',\n",
       " '_gitattributes',\n",
       " '_gitignore']"
      ]
     },
     "execution_count": 8,
     "metadata": {},
     "output_type": "execute_result"
    }
   ],
   "source": [
    "os.listdir()"
   ]
  },
  {
   "cell_type": "code",
   "execution_count": 9,
   "metadata": {
    "collapsed": false
   },
   "outputs": [
    {
     "name": "stdout",
     "output_type": "stream",
     "text": [
      "Tokenization took: 30557.05 ms\n",
      "Type conversion took: 12116.44 ms\n",
      "Parser memory cleanup took: 365.31 ms\n"
     ]
    }
   ],
   "source": [
    "eNBs = []\n",
    "UEs = []\n",
    "\n",
    "rxDF_scenario = getRxPacketFile(eNBs,UEs, scenario_folder)"
   ]
  },
  {
   "cell_type": "code",
   "execution_count": 10,
   "metadata": {
    "collapsed": false
   },
   "outputs": [
    {
     "name": "stdout",
     "output_type": "stream",
     "text": [
      "RxPacket file loaded as dataframe (eNBs: []), (UEs: [])\n"
     ]
    }
   ],
   "source": [
    "if rxDF_scenario is None:\n",
    "    print('RxPacket file not found!')\n",
    "else:\n",
    "    rxDF_scenario = rxDF_scenario[1:].copy() #First line (headers) is skipped\n",
    "    print(f'RxPacket file loaded as dataframe (eNBs: {eNBs}), (UEs: {UEs})')\n",
    "    rxDF_scenario['SINR(dB)'] = pd.DataFrame(rxDF_scenario['SINR(dB)'], dtype='float')\n",
    "    rxDF_scenario['rnti']     = pd.DataFrame(rxDF_scenario['rnti'], dtype='int')\n",
    "    rxDF_scenario['cellId']   = pd.DataFrame(rxDF_scenario['cellId'], dtype='int')\n",
    "    rxDF_scenario['TBler']    = pd.DataFrame(rxDF_scenario['TBler'], dtype='float')\n"
   ]
  },
  {
   "cell_type": "code",
   "execution_count": 11,
   "metadata": {
    "collapsed": false
   },
   "outputs": [
    {
     "data": {
      "text/html": [
       "<div>\n",
       "<style scoped>\n",
       "    .dataframe tbody tr th:only-of-type {\n",
       "        vertical-align: middle;\n",
       "    }\n",
       "\n",
       "    .dataframe tbody tr th {\n",
       "        vertical-align: top;\n",
       "    }\n",
       "\n",
       "    .dataframe thead th {\n",
       "        text-align: right;\n",
       "    }\n",
       "</style>\n",
       "<table border=\"1\" class=\"dataframe\">\n",
       "  <thead>\n",
       "    <tr style=\"text-align: right;\">\n",
       "      <th></th>\n",
       "      <th>mode</th>\n",
       "      <th>frame</th>\n",
       "      <th>subF</th>\n",
       "      <th>1stSym</th>\n",
       "      <th>symbol#</th>\n",
       "      <th>cellId</th>\n",
       "      <th>rnti</th>\n",
       "      <th>ccId</th>\n",
       "      <th>tbSize</th>\n",
       "      <th>mcs</th>\n",
       "      <th>rv</th>\n",
       "      <th>SINR(dB)</th>\n",
       "      <th>corrupt</th>\n",
       "      <th>TBler</th>\n",
       "    </tr>\n",
       "    <tr>\n",
       "      <th>time</th>\n",
       "      <th></th>\n",
       "      <th></th>\n",
       "      <th></th>\n",
       "      <th></th>\n",
       "      <th></th>\n",
       "      <th></th>\n",
       "      <th></th>\n",
       "      <th></th>\n",
       "      <th></th>\n",
       "      <th></th>\n",
       "      <th></th>\n",
       "      <th></th>\n",
       "      <th></th>\n",
       "      <th></th>\n",
       "    </tr>\n",
       "  </thead>\n",
       "  <tbody>\n",
       "    <tr>\n",
       "      <th>0.00310832</th>\n",
       "      <td>DL</td>\n",
       "      <td>3</td>\n",
       "      <td>1</td>\n",
       "      <td>1</td>\n",
       "      <td>1</td>\n",
       "      <td>1</td>\n",
       "      <td>1</td>\n",
       "      <td>0</td>\n",
       "      <td>48</td>\n",
       "      <td>0</td>\n",
       "      <td>0</td>\n",
       "      <td>8.85417</td>\n",
       "      <td></td>\n",
       "      <td>0.0</td>\n",
       "    </tr>\n",
       "    <tr>\n",
       "      <th>0.00310832</th>\n",
       "      <td>DL</td>\n",
       "      <td>3</td>\n",
       "      <td>1</td>\n",
       "      <td>1</td>\n",
       "      <td>1</td>\n",
       "      <td>2</td>\n",
       "      <td>1</td>\n",
       "      <td>0</td>\n",
       "      <td>48</td>\n",
       "      <td>0</td>\n",
       "      <td>0</td>\n",
       "      <td>15.11700</td>\n",
       "      <td></td>\n",
       "      <td>0.0</td>\n",
       "    </tr>\n",
       "    <tr>\n",
       "      <th>0.00310832</th>\n",
       "      <td>DL</td>\n",
       "      <td>3</td>\n",
       "      <td>1</td>\n",
       "      <td>1</td>\n",
       "      <td>1</td>\n",
       "      <td>3</td>\n",
       "      <td>1</td>\n",
       "      <td>0</td>\n",
       "      <td>48</td>\n",
       "      <td>0</td>\n",
       "      <td>0</td>\n",
       "      <td>16.46700</td>\n",
       "      <td></td>\n",
       "      <td>0.0</td>\n",
       "    </tr>\n",
       "    <tr>\n",
       "      <th>0.00311248</th>\n",
       "      <td>DL</td>\n",
       "      <td>3</td>\n",
       "      <td>1</td>\n",
       "      <td>2</td>\n",
       "      <td>1</td>\n",
       "      <td>1</td>\n",
       "      <td>2</td>\n",
       "      <td>0</td>\n",
       "      <td>48</td>\n",
       "      <td>0</td>\n",
       "      <td>0</td>\n",
       "      <td>4.08966</td>\n",
       "      <td></td>\n",
       "      <td>0.0</td>\n",
       "    </tr>\n",
       "    <tr>\n",
       "      <th>0.00311248</th>\n",
       "      <td>DL</td>\n",
       "      <td>3</td>\n",
       "      <td>1</td>\n",
       "      <td>2</td>\n",
       "      <td>1</td>\n",
       "      <td>2</td>\n",
       "      <td>2</td>\n",
       "      <td>0</td>\n",
       "      <td>48</td>\n",
       "      <td>0</td>\n",
       "      <td>0</td>\n",
       "      <td>40.14510</td>\n",
       "      <td></td>\n",
       "      <td>0.0</td>\n",
       "    </tr>\n",
       "  </tbody>\n",
       "</table>\n",
       "</div>"
      ],
      "text/plain": [
       "           mode frame subF 1stSym symbol#  cellId  rnti ccId tbSize mcs rv  \\\n",
       "time                                                                         \n",
       "0.00310832   DL     3    1      1       1       1     1    0     48   0  0   \n",
       "0.00310832   DL     3    1      1       1       2     1    0     48   0  0   \n",
       "0.00310832   DL     3    1      1       1       3     1    0     48   0  0   \n",
       "0.00311248   DL     3    1      2       1       1     2    0     48   0  0   \n",
       "0.00311248   DL     3    1      2       1       2     2    0     48   0  0   \n",
       "\n",
       "            SINR(dB) corrupt  TBler  \n",
       "time                                 \n",
       "0.00310832   8.85417            0.0  \n",
       "0.00310832  15.11700            0.0  \n",
       "0.00310832  16.46700            0.0  \n",
       "0.00311248   4.08966            0.0  \n",
       "0.00311248  40.14510            0.0  "
      ]
     },
     "execution_count": 11,
     "metadata": {},
     "output_type": "execute_result"
    }
   ],
   "source": [
    "rxDF_scenario.head()"
   ]
  },
  {
   "cell_type": "code",
   "execution_count": 12,
   "metadata": {
    "collapsed": false
   },
   "outputs": [
    {
     "name": "stdout",
     "output_type": "stream",
     "text": [
      "Index(['0.00310832', '0.00310832', '0.00310832', '0.00311248', '0.00311248',\n",
      "       '0.00311248', '0.00311664', '0.00311664', '0.00311664', '0.0031208',\n",
      "       ...\n",
      "       '9.99998', '9.99998', '9.99999', '9.99999', '9.99999', '9.99999',\n",
      "       '9.99999', '10', '10', '10'],\n",
      "      dtype='object', name='time', length=4677447)\n"
     ]
    }
   ],
   "source": [
    "print(rxDF_scenario.index)"
   ]
  },
  {
   "cell_type": "code",
   "execution_count": 13,
   "metadata": {
    "collapsed": true
   },
   "outputs": [],
   "source": [
    "from collections import defaultdict\n",
    "d = defaultdict(LabelEncoder)"
   ]
  },
  {
   "cell_type": "code",
   "execution_count": 14,
   "metadata": {
    "collapsed": true
   },
   "outputs": [],
   "source": [
    "integerIndexes= rxDF_scenario.set_index(d['time'].fit_transform(rxDF_scenario.index))"
   ]
  },
  {
   "cell_type": "code",
   "execution_count": 15,
   "metadata": {
    "collapsed": false
   },
   "outputs": [
    {
     "data": {
      "text/plain": [
       "Index(['0.00310832', '0.00310832', '0.00310832', '0.00311248', '0.00311248',\n",
       "       '0.00311248', '0.00311664', '0.00311664', '0.00311664', '0.0031208',\n",
       "       ...\n",
       "       '9.99998', '9.99998', '9.99999', '9.99999', '9.99999', '9.99999',\n",
       "       '9.99999', '10', '10', '10'],\n",
       "      dtype='object', name='time', length=4677447)"
      ]
     },
     "execution_count": 15,
     "metadata": {},
     "output_type": "execute_result"
    }
   ],
   "source": [
    "rxDF_scenario.index"
   ]
  },
  {
   "cell_type": "code",
   "execution_count": 16,
   "metadata": {
    "collapsed": false
   },
   "outputs": [
    {
     "data": {
      "text/plain": [
       "array([1, 2, 3])"
      ]
     },
     "execution_count": 16,
     "metadata": {},
     "output_type": "execute_result"
    }
   ],
   "source": [
    "np.unique(rxDF_scenario['cellId'])"
   ]
  },
  {
   "cell_type": "code",
   "execution_count": 17,
   "metadata": {
    "collapsed": false
   },
   "outputs": [
    {
     "data": {
      "text/html": [
       "<div>\n",
       "<style scoped>\n",
       "    .dataframe tbody tr th:only-of-type {\n",
       "        vertical-align: middle;\n",
       "    }\n",
       "\n",
       "    .dataframe tbody tr th {\n",
       "        vertical-align: top;\n",
       "    }\n",
       "\n",
       "    .dataframe thead th {\n",
       "        text-align: right;\n",
       "    }\n",
       "</style>\n",
       "<table border=\"1\" class=\"dataframe\">\n",
       "  <thead>\n",
       "    <tr style=\"text-align: right;\">\n",
       "      <th></th>\n",
       "      <th>mode</th>\n",
       "      <th>frame</th>\n",
       "      <th>subF</th>\n",
       "      <th>1stSym</th>\n",
       "      <th>symbol#</th>\n",
       "      <th>cellId</th>\n",
       "      <th>rnti</th>\n",
       "      <th>ccId</th>\n",
       "      <th>tbSize</th>\n",
       "      <th>mcs</th>\n",
       "      <th>rv</th>\n",
       "      <th>SINR(dB)</th>\n",
       "      <th>corrupt</th>\n",
       "      <th>TBler</th>\n",
       "    </tr>\n",
       "  </thead>\n",
       "  <tbody>\n",
       "    <tr>\n",
       "      <th>0</th>\n",
       "      <td>DL</td>\n",
       "      <td>3</td>\n",
       "      <td>1</td>\n",
       "      <td>1</td>\n",
       "      <td>1</td>\n",
       "      <td>1</td>\n",
       "      <td>1</td>\n",
       "      <td>0</td>\n",
       "      <td>48</td>\n",
       "      <td>0</td>\n",
       "      <td>0</td>\n",
       "      <td>8.85417</td>\n",
       "      <td></td>\n",
       "      <td>0.0</td>\n",
       "    </tr>\n",
       "    <tr>\n",
       "      <th>0</th>\n",
       "      <td>DL</td>\n",
       "      <td>3</td>\n",
       "      <td>1</td>\n",
       "      <td>1</td>\n",
       "      <td>1</td>\n",
       "      <td>2</td>\n",
       "      <td>1</td>\n",
       "      <td>0</td>\n",
       "      <td>48</td>\n",
       "      <td>0</td>\n",
       "      <td>0</td>\n",
       "      <td>15.11700</td>\n",
       "      <td></td>\n",
       "      <td>0.0</td>\n",
       "    </tr>\n",
       "    <tr>\n",
       "      <th>0</th>\n",
       "      <td>DL</td>\n",
       "      <td>3</td>\n",
       "      <td>1</td>\n",
       "      <td>1</td>\n",
       "      <td>1</td>\n",
       "      <td>3</td>\n",
       "      <td>1</td>\n",
       "      <td>0</td>\n",
       "      <td>48</td>\n",
       "      <td>0</td>\n",
       "      <td>0</td>\n",
       "      <td>16.46700</td>\n",
       "      <td></td>\n",
       "      <td>0.0</td>\n",
       "    </tr>\n",
       "    <tr>\n",
       "      <th>1</th>\n",
       "      <td>DL</td>\n",
       "      <td>3</td>\n",
       "      <td>1</td>\n",
       "      <td>2</td>\n",
       "      <td>1</td>\n",
       "      <td>1</td>\n",
       "      <td>2</td>\n",
       "      <td>0</td>\n",
       "      <td>48</td>\n",
       "      <td>0</td>\n",
       "      <td>0</td>\n",
       "      <td>4.08966</td>\n",
       "      <td></td>\n",
       "      <td>0.0</td>\n",
       "    </tr>\n",
       "    <tr>\n",
       "      <th>1</th>\n",
       "      <td>DL</td>\n",
       "      <td>3</td>\n",
       "      <td>1</td>\n",
       "      <td>2</td>\n",
       "      <td>1</td>\n",
       "      <td>2</td>\n",
       "      <td>2</td>\n",
       "      <td>0</td>\n",
       "      <td>48</td>\n",
       "      <td>0</td>\n",
       "      <td>0</td>\n",
       "      <td>40.14510</td>\n",
       "      <td></td>\n",
       "      <td>0.0</td>\n",
       "    </tr>\n",
       "  </tbody>\n",
       "</table>\n",
       "</div>"
      ],
      "text/plain": [
       "  mode frame subF 1stSym symbol#  cellId  rnti ccId tbSize mcs rv  SINR(dB)  \\\n",
       "0   DL     3    1      1       1       1     1    0     48   0  0   8.85417   \n",
       "0   DL     3    1      1       1       2     1    0     48   0  0  15.11700   \n",
       "0   DL     3    1      1       1       3     1    0     48   0  0  16.46700   \n",
       "1   DL     3    1      2       1       1     2    0     48   0  0   4.08966   \n",
       "1   DL     3    1      2       1       2     2    0     48   0  0  40.14510   \n",
       "\n",
       "  corrupt  TBler  \n",
       "0            0.0  \n",
       "0            0.0  \n",
       "0            0.0  \n",
       "1            0.0  \n",
       "1            0.0  "
      ]
     },
     "execution_count": 17,
     "metadata": {},
     "output_type": "execute_result"
    }
   ],
   "source": [
    "integerIndexes.head()"
   ]
  },
  {
   "cell_type": "code",
   "execution_count": 18,
   "metadata": {
    "collapsed": false
   },
   "outputs": [
    {
     "data": {
      "text/html": [
       "<div>\n",
       "<style scoped>\n",
       "    .dataframe tbody tr th:only-of-type {\n",
       "        vertical-align: middle;\n",
       "    }\n",
       "\n",
       "    .dataframe tbody tr th {\n",
       "        vertical-align: top;\n",
       "    }\n",
       "\n",
       "    .dataframe thead th {\n",
       "        text-align: right;\n",
       "    }\n",
       "</style>\n",
       "<table border=\"1\" class=\"dataframe\">\n",
       "  <thead>\n",
       "    <tr style=\"text-align: right;\">\n",
       "      <th></th>\n",
       "      <th>mode</th>\n",
       "      <th>frame</th>\n",
       "      <th>subF</th>\n",
       "      <th>1stSym</th>\n",
       "      <th>symbol#</th>\n",
       "      <th>cellId</th>\n",
       "      <th>rnti</th>\n",
       "      <th>ccId</th>\n",
       "      <th>tbSize</th>\n",
       "      <th>mcs</th>\n",
       "      <th>rv</th>\n",
       "      <th>SINR(dB)</th>\n",
       "      <th>corrupt</th>\n",
       "      <th>TBler</th>\n",
       "    </tr>\n",
       "  </thead>\n",
       "  <tbody>\n",
       "    <tr>\n",
       "      <th>1114142</th>\n",
       "      <td>UL</td>\n",
       "      <td>9999</td>\n",
       "      <td>9</td>\n",
       "      <td>21</td>\n",
       "      <td>1</td>\n",
       "      <td>2</td>\n",
       "      <td>9</td>\n",
       "      <td>0</td>\n",
       "      <td>1060</td>\n",
       "      <td>20</td>\n",
       "      <td>0</td>\n",
       "      <td>1.34970</td>\n",
       "      <td>1</td>\n",
       "      <td>1.0</td>\n",
       "    </tr>\n",
       "    <tr>\n",
       "      <th>1114142</th>\n",
       "      <td>DL</td>\n",
       "      <td>9999</td>\n",
       "      <td>9</td>\n",
       "      <td>21</td>\n",
       "      <td>1</td>\n",
       "      <td>3</td>\n",
       "      <td>12</td>\n",
       "      <td>0</td>\n",
       "      <td>619</td>\n",
       "      <td>14</td>\n",
       "      <td>0</td>\n",
       "      <td>12.30260</td>\n",
       "      <td></td>\n",
       "      <td>0.0</td>\n",
       "    </tr>\n",
       "    <tr>\n",
       "      <th>314142</th>\n",
       "      <td>UL</td>\n",
       "      <td>9999</td>\n",
       "      <td>9</td>\n",
       "      <td>21</td>\n",
       "      <td>2</td>\n",
       "      <td>1</td>\n",
       "      <td>1</td>\n",
       "      <td>0</td>\n",
       "      <td>3442</td>\n",
       "      <td>27</td>\n",
       "      <td>0</td>\n",
       "      <td>10.73670</td>\n",
       "      <td>1</td>\n",
       "      <td>1.0</td>\n",
       "    </tr>\n",
       "    <tr>\n",
       "      <th>314142</th>\n",
       "      <td>UL</td>\n",
       "      <td>9999</td>\n",
       "      <td>9</td>\n",
       "      <td>22</td>\n",
       "      <td>1</td>\n",
       "      <td>2</td>\n",
       "      <td>10</td>\n",
       "      <td>0</td>\n",
       "      <td>1449</td>\n",
       "      <td>24</td>\n",
       "      <td>0</td>\n",
       "      <td>2.81052</td>\n",
       "      <td>1</td>\n",
       "      <td>1.0</td>\n",
       "    </tr>\n",
       "    <tr>\n",
       "      <th>314142</th>\n",
       "      <td>DL</td>\n",
       "      <td>9999</td>\n",
       "      <td>9</td>\n",
       "      <td>22</td>\n",
       "      <td>1</td>\n",
       "      <td>3</td>\n",
       "      <td>14</td>\n",
       "      <td>0</td>\n",
       "      <td>120</td>\n",
       "      <td>4</td>\n",
       "      <td>0</td>\n",
       "      <td>-1.24357</td>\n",
       "      <td></td>\n",
       "      <td>0.0</td>\n",
       "    </tr>\n",
       "  </tbody>\n",
       "</table>\n",
       "</div>"
      ],
      "text/plain": [
       "        mode frame subF 1stSym symbol#  cellId  rnti ccId tbSize mcs rv  \\\n",
       "1114142   UL  9999    9     21       1       2     9    0   1060  20  0   \n",
       "1114142   DL  9999    9     21       1       3    12    0    619  14  0   \n",
       "314142    UL  9999    9     21       2       1     1    0   3442  27  0   \n",
       "314142    UL  9999    9     22       1       2    10    0   1449  24  0   \n",
       "314142    DL  9999    9     22       1       3    14    0    120   4  0   \n",
       "\n",
       "         SINR(dB) corrupt  TBler  \n",
       "1114142   1.34970       1    1.0  \n",
       "1114142  12.30260            0.0  \n",
       "314142   10.73670       1    1.0  \n",
       "314142    2.81052       1    1.0  \n",
       "314142   -1.24357            0.0  "
      ]
     },
     "execution_count": 18,
     "metadata": {},
     "output_type": "execute_result"
    }
   ],
   "source": [
    "integerIndexes.tail()"
   ]
  },
  {
   "cell_type": "code",
   "execution_count": 19,
   "metadata": {
    "collapsed": false,
    "scrolled": true
   },
   "outputs": [
    {
     "name": "stdout",
     "output_type": "stream",
     "text": [
      "unique rnti's: [ 1  2  3  4  5  6  7  8  9 10 11 12 13 14 15 16]\n",
      "\n",
      "\n",
      "Number of unique rnti's: 16\n",
      "\n",
      "\n",
      " RNTI 1:\n",
      "           mode frame subF 1stSym symbol#  cellId  rnti ccId tbSize mcs rv  \\\n",
      "time                                                                         \n",
      "0.00310832   DL     3    1      1       1       1     1    0     48   0  0   \n",
      "0.00310832   DL     3    1      1       1       2     1    0     48   0  0   \n",
      "0.00310832   DL     3    1      1       1       3     1    0     48   0  0   \n",
      "0.00360832   UL     3    6      1       1       1     1    0     48   0  0   \n",
      "0.00360832   UL     3    6      1       1       2     1    0     48   0  0   \n",
      "...         ...   ...  ...    ...     ...     ...   ...  ...    ...  .. ..   \n",
      "9.99991      DL  9999    9      1       2       2     1    0   2512  22  0   \n",
      "9.99993      DL  9999    9      5       2       3     1    0   2512  22  0   \n",
      "9.99995      DL  9999    9     10       2       1     1    0   1543  16  0   \n",
      "9.99996      UL  9999    9     12       2       2     1    0    476   7  0   \n",
      "10           UL  9999    9     21       2       1     1    0   3442  27  0   \n",
      "\n",
      "            SINR(dB) corrupt  TBler  \n",
      "time                                 \n",
      "0.00310832   8.85417            0.0  \n",
      "0.00310832  15.11700            0.0  \n",
      "0.00310832  16.46700            0.0  \n",
      "0.00360832   8.85417       0    0.0  \n",
      "0.00360832  15.11700       0    0.0  \n",
      "...              ...     ...    ...  \n",
      "9.99991     17.43250            0.0  \n",
      "9.99993     17.47580            0.0  \n",
      "9.99995     10.73670            0.0  \n",
      "9.99996     17.43250       0    0.0  \n",
      "10          10.73670       1    1.0  \n",
      "\n",
      "[568161 rows x 14 columns]\n"
     ]
    }
   ],
   "source": [
    "print(f\"unique rnti\\'s: {np.unique(rxDF_scenario['rnti'])}\")\n",
    "print(f\"\\n\\nNumber of unique rnti's: {len(np.unique(rxDF_scenario['rnti']))}\")\n",
    "\n",
    "print(\"\\n\\n RNTI 1:\")\n",
    "print(rxDF_scenario[rxDF_scenario['rnti'] == 1])"
   ]
  },
  {
   "cell_type": "code",
   "execution_count": 20,
   "metadata": {
    "collapsed": true
   },
   "outputs": [],
   "source": [
    "cellIdGroupedRBs = rxDF_scenario.groupby(['cellId'])"
   ]
  },
  {
   "cell_type": "code",
   "execution_count": 21,
   "metadata": {
    "collapsed": false
   },
   "outputs": [
    {
     "data": {
      "text/plain": [
       "{1: Index(['0.00310832', '0.00311248', '0.00311664', '0.0031208', '0.00312496',\n",
       "        '0.00360832', '0.00361248', '0.00361664', '0.0036208', '0.00362496',\n",
       "        ...\n",
       "        '9.99992', '9.99992', '9.99993', '9.99994', '9.99995', '9.99996',\n",
       "        '9.99997', '9.99998', '9.99999', '10'],\n",
       "       dtype='object', name='time', length=995337),\n",
       " 2: Index(['0.00310832', '0.00311248', '0.00311664', '0.0031208', '0.00312496',\n",
       "        '0.00312912', '0.00313328', '0.00313744', '0.0031416', '0.00314576',\n",
       "        ...\n",
       "        '9.99996', '9.99996', '9.99997', '9.99997', '9.99997', '9.99998',\n",
       "        '9.99998', '9.99999', '9.99999', '10'],\n",
       "       dtype='object', name='time', length=1920707),\n",
       " 3: Index(['0.00310832', '0.00311248', '0.00311664', '0.0031208', '0.00312496',\n",
       "        '0.00312912', '0.00313328', '0.00313744', '0.0031416', '0.00314576',\n",
       "        ...\n",
       "        '9.99995', '9.99995', '9.99996', '9.99997', '9.99997', '9.99998',\n",
       "        '9.99998', '9.99999', '9.99999', '10'],\n",
       "       dtype='object', name='time', length=1761403)}"
      ]
     },
     "execution_count": 21,
     "metadata": {},
     "output_type": "execute_result"
    }
   ],
   "source": [
    "cellIdGroupedRBs.groups"
   ]
  },
  {
   "cell_type": "code",
   "execution_count": 22,
   "metadata": {
    "collapsed": true
   },
   "outputs": [],
   "source": [
    "rntiCellIdGrouped = rxDF_scenario.groupby(['cellId', 'rnti'])"
   ]
  },
  {
   "cell_type": "code",
   "execution_count": 23,
   "metadata": {
    "collapsed": true,
    "scrolled": true
   },
   "outputs": [],
   "source": [
    "rntiGrouped = integerIndexes.groupby(['rnti'])"
   ]
  },
  {
   "cell_type": "code",
   "execution_count": 24,
   "metadata": {
    "collapsed": false
   },
   "outputs": [
    {
     "data": {
      "text/plain": [
       "Int64Index([      0,       0,       0,      15,      15,      15,      29,\n",
       "                 29,      29,      43,\n",
       "            ...\n",
       "            1114125, 1114125, 1114129, 1114129, 1114131, 1114134, 1114136,\n",
       "            1114138, 1114139,  314142],\n",
       "           dtype='int64', length=568161)"
      ]
     },
     "execution_count": 24,
     "metadata": {},
     "output_type": "execute_result"
    }
   ],
   "source": [
    "rntiGrouped.get_group(1).index"
   ]
  },
  {
   "cell_type": "code",
   "execution_count": 25,
   "metadata": {
    "collapsed": false
   },
   "outputs": [
    {
     "data": {
      "text/plain": [
       "{(1,\n",
       "  1): Index(['0.00310832', '0.00360832', '0.00400832', '0.00452496', '0.00467904',\n",
       "        '0.00474576', '0.00489568', '0.00493328', '0.00497904', '0.00502496',\n",
       "        ...\n",
       "        '9.99954', '9.99959', '9.99963', '9.99968', '9.99972', '9.99977',\n",
       "        '9.99982', '9.99986', '9.99995', '10'],\n",
       "       dtype='object', name='time', length=199909),\n",
       " (1,\n",
       "  2): Index(['0.00311248', '0.00361248', '0.00401248', '0.00454576', '0.00469568',\n",
       "        '0.0047624', '0.00482496', '0.0049416', '0.00498736', '0.00503328',\n",
       "        ...\n",
       "        '9.99955', '9.9996', '9.99964', '9.99969', '9.99973', '9.99978',\n",
       "        '9.99982', '9.99987', '9.99992', '9.99996'],\n",
       "       dtype='object', name='time', length=199909),\n",
       " (1,\n",
       "  3): Index(['0.00311664', '0.00361664', '0.00401664', '0.0045624', '0.00462496',\n",
       "        '0.00477904', '0.00484576', '0.00494992', '0.00499568', '0.0050416',\n",
       "        ...\n",
       "        '9.99952', '9.99956', '9.99965', '9.9997', '9.99974', '9.99979',\n",
       "        '9.99983', '9.99988', '9.99992', '9.99997'],\n",
       "       dtype='object', name='time', length=198881),\n",
       " (1,\n",
       "  4): Index(['0.0031208', '0.0036208', '0.0040208', '0.00457904', '0.00464576',\n",
       "        '0.00479568', '0.0048624', '0.00491664', '0.0049624', '0.00504992',\n",
       "        ...\n",
       "        '9.99952', '9.99957', '9.99962', '9.99966', '9.99975', '9.9998',\n",
       "        '9.99984', '9.99989', '9.99993', '9.99998'],\n",
       "       dtype='object', name='time', length=198065),\n",
       " (1,\n",
       "  5): Index(['0.00312496', '0.00362496', '0.00402496', '0.00459568', '0.0046624',\n",
       "        '0.00472496', '0.00487904', '0.00492496', '0.00497072', '0.00501664',\n",
       "        ...\n",
       "        '9.99953', '9.99958', '9.99962', '9.99967', '9.99972', '9.99976',\n",
       "        '9.99985', '9.9999', '9.99994', '9.99999'],\n",
       "       dtype='object', name='time', length=198573),\n",
       " (2,\n",
       "  1): Index(['0.00310832', '0.00360832', '0.00400832', '0.00451664', '0.00468736',\n",
       "        '0.00477072', '0.00485408', '0.0049208', '0.00496656', '0.00501664',\n",
       "        ...\n",
       "        '9.99953', '9.99957', '9.99962', '9.99967', '9.99972', '9.99977',\n",
       "        '9.99982', '9.99986', '9.99991', '9.99996'],\n",
       "       dtype='object', name='time', length=197872),\n",
       " (2,\n",
       "  2): Index(['0.00311248', '0.00361248', '0.00401248', '0.00452912', '0.00469568',\n",
       "        '0.00477904', '0.0048624', '0.00492496', '0.00497072', '0.0050208',\n",
       "        ...\n",
       "        '9.99953', '9.99958', '9.99963', '9.99967', '9.99972', '9.99977',\n",
       "        '9.99982', '9.99987', '9.99992', '9.99996'],\n",
       "       dtype='object', name='time', length=196347),\n",
       " (2,\n",
       "  3): Index(['0.00311664', '0.00361664', '0.00401664', '0.00453744', '0.00461664',\n",
       "        '0.00478736', '0.00487072', '0.00492912', '0.00497488', '0.00502496',\n",
       "        ...\n",
       "        '9.99954', '9.99958', '9.99963', '9.99968', '9.99973', '9.99977',\n",
       "        '9.99982', '9.99987', '9.99992', '9.99997'],\n",
       "       dtype='object', name='time', length=190984),\n",
       " (2,\n",
       "  4): Index(['0.0031208', '0.0036208', '0.0040208', '0.00454576', '0.00462912',\n",
       "        '0.00479568', '0.00487904', '0.00493328', '0.00497904', '0.00502912',\n",
       "        ...\n",
       "        '9.99954', '9.99959', '9.99964', '9.99968', '9.99973', '9.99978',\n",
       "        '9.99983', '9.99987', '9.99992', '9.99997'],\n",
       "       dtype='object', name='time', length=193008),\n",
       " (2,\n",
       "  5): Index(['0.00312496', '0.00362496', '0.00402496', '0.00455408', '0.00463744',\n",
       "        '0.00471664', '0.00488736', '0.00493744', '0.0049832', '0.00503328',\n",
       "        ...\n",
       "        '9.99955', '9.99959', '9.99964', '9.99969', '9.99974', '9.99978',\n",
       "        '9.99983', '9.99988', '9.99993', '9.99997'],\n",
       "       dtype='object', name='time', length=192655),\n",
       " (2,\n",
       "  6): Index(['0.00312912', '0.00362912', '0.00402912', '0.0045624', '0.00464576',\n",
       "        '0.00472912', '0.00489568', '0.0049416', '0.00498736', '0.00503744',\n",
       "        ...\n",
       "        '9.99955', '9.9996', '9.99965', '9.99969', '9.99974', '9.99979',\n",
       "        '9.99984', '9.99988', '9.99993', '9.99998'],\n",
       "       dtype='object', name='time', length=192614),\n",
       " (2,\n",
       "  7): Index(['0.00313328', '0.00363328', '0.00403328', '0.00457072', '0.00465408',\n",
       "        '0.00473744', '0.00481664', '0.00494576', '0.00499152', '0.0050416',\n",
       "        ...\n",
       "        '9.99951', '9.99956', '9.99965', '9.9997', '9.99975', '9.99979',\n",
       "        '9.99984', '9.99989', '9.99994', '9.99998'],\n",
       "       dtype='object', name='time', length=187421),\n",
       " (2,\n",
       "  8): Index(['0.00313744', '0.00363744', '0.00403744', '0.00457904', '0.0046624',\n",
       "        '0.00474576', '0.00482912', '0.00494992', '0.00499568', '0.00504576',\n",
       "        ...\n",
       "        '9.99952', '9.99956', '9.99961', '9.99966', '9.99975', '9.9998',\n",
       "        '9.99985', '9.99989', '9.99994', '9.99999'],\n",
       "       dtype='object', name='time', length=191468),\n",
       " (2,\n",
       "  9): Index(['0.0031416', '0.0036416', '0.0040416', '0.00458736', '0.00467072',\n",
       "        '0.00475408', '0.00483744', '0.00491248', '0.00495824', '0.00504992',\n",
       "        ...\n",
       "        '9.99952', '9.99957', '9.99962', '9.99966', '9.99971', '9.99976',\n",
       "        '9.99985', '9.9999', '9.99995', '9.99999'],\n",
       "       dtype='object', name='time', length=187942),\n",
       " (2,\n",
       "  10): Index(['0.00314576', '0.00364576', '0.00404576', '0.00459568', '0.00467904',\n",
       "        '0.0047624', '0.00484576', '0.00491664', '0.0049624', '0.00501248',\n",
       "        ...\n",
       "        '9.99952', '9.99957', '9.99962', '9.99967', '9.99972', '9.99976',\n",
       "        '9.99981', '9.99986', '9.99995', '10'],\n",
       "       dtype='object', name='time', length=190396),\n",
       " (3,\n",
       "  1): Index(['0.00310832', '0.00360832', '0.00400832', '0.00451248', '0.0046624',\n",
       "        '0.00479152', '0.00484576', '0.00494992', '0.00499568', '0.00511664',\n",
       "        ...\n",
       "        '9.99905', '9.99918', '9.99923', '9.99937', '9.99941', '9.99956',\n",
       "        '9.99969', '9.99975', '9.99988', '9.99993'],\n",
       "       dtype='object', name='time', length=170380),\n",
       " (3,\n",
       "  2): Index(['0.00311248', '0.00361248', '0.00401248', '0.0045208', '0.00467072',\n",
       "        '0.00479568', '0.00485408', '0.00500832', '0.00505408', '0.0051208',\n",
       "        ...\n",
       "        '9.99905', '9.99919', '9.99924', '9.99938', '9.99942', '9.99957',\n",
       "        '9.9997', '9.99975', '9.99989', '9.99994'],\n",
       "       dtype='object', name='time', length=153545),\n",
       " (3,\n",
       "  3): Index(['0.00311664', '0.00361664', '0.00401664', '0.00452912', '0.00467488',\n",
       "        '0.00471248', '0.0048624', '0.00501248', '0.00505824', '0.00512496',\n",
       "        ...\n",
       "        '9.99906', '9.99919', '9.99925', '9.99938', '9.99943', '9.99957',\n",
       "        '9.99961', '9.99976', '9.99989', '9.99995'],\n",
       "       dtype='object', name='time', length=128659),\n",
       " (3,\n",
       "  4): Index(['0.0031208', '0.0036208', '0.0040208', '0.00453744', '0.00467904',\n",
       "        '0.0047208', '0.00487072', '0.00501664', '0.0050624', '0.00512912',\n",
       "        ...\n",
       "        '9.99907', '9.9992', '9.99925', '9.99939', '9.99944', '9.99958',\n",
       "        '9.99962', '9.99977', '9.9999', '9.99995'],\n",
       "       dtype='object', name='time', length=131127),\n",
       " (3, 5): Index(['0.00312496'], dtype='object', name='time'),\n",
       " (3,\n",
       "  6): Index(['0.00312912', '0.00362496', '0.00402496', '0.00454576', '0.0046832',\n",
       "        '0.00472912', '0.00487488', '0.00490832', '0.00495408', '0.0050208',\n",
       "        ...\n",
       "        '9.99907', '9.99911', '9.99926', '9.99939', '9.99945', '9.99958',\n",
       "        '9.99963', '9.99977', '9.99981', '9.99996'],\n",
       "       dtype='object', name='time', length=129718),\n",
       " (3,\n",
       "  7): Index(['0.00313328', '0.00362912', '0.00402912', '0.00455408', '0.00468736',\n",
       "        '0.00473744', '0.00487904', '0.00491248', '0.00495824', '0.00502496',\n",
       "        ...\n",
       "        '9.99908', '9.99912', '9.99927', '9.9994', '9.99945', '9.99959',\n",
       "        '9.99964', '9.99978', '9.99982', '9.99997'],\n",
       "       dtype='object', name='time', length=129838),\n",
       " (3,\n",
       "  8): Index(['0.00313744', '0.00363328', '0.00403328', '0.0045624', '0.00469152',\n",
       "        '0.00474576', '0.0048832', '0.00491664', '0.0049624', '0.00502912',\n",
       "        ...\n",
       "        '9.99908', '9.99913', '9.99927', '9.99931', '9.99946', '9.99959',\n",
       "        '9.99965', '9.99978', '9.99983', '9.99997'],\n",
       "       dtype='object', name='time', length=129798),\n",
       " (3,\n",
       "  9): Index(['0.0031416', '0.00363744', '0.00403744', '0.00457072', '0.00469568',\n",
       "        '0.00475408', '0.00488736', '0.0049208', '0.00496656', '0.00503328',\n",
       "        ...\n",
       "        '9.99909', '9.99914', '9.99928', '9.99932', '9.99947', '9.9996',\n",
       "        '9.99965', '9.99979', '9.99984', '9.99998'],\n",
       "       dtype='object', name='time', length=129779),\n",
       " (3,\n",
       "  10): Index(['0.00314576', '0.0036416', '0.0040416', '0.00457488', '0.00461248',\n",
       "        '0.0047624', '0.00489152', '0.00492496', '0.00497072', '0.00503744',\n",
       "        ...\n",
       "        '9.99909', '9.99915', '9.99928', '9.99933', '9.99947', '9.99951',\n",
       "        '9.99966', '9.99979', '9.99985', '9.99998'],\n",
       "       dtype='object', name='time', length=76354),\n",
       " (3,\n",
       "  11): Index(['0.00314992', '0.00364576', '0.00404576', '0.00457904', '0.0046208',\n",
       "        '0.00477072', '0.00489568', '0.00492912', '0.00497488', '0.0050416',\n",
       "        ...\n",
       "        '9.9991', '9.99915', '9.99929', '9.99934', '9.99948', '9.99952',\n",
       "        '9.99967', '9.9998', '9.99985', '9.99999'],\n",
       "       dtype='object', name='time', length=115670),\n",
       " (3,\n",
       "  12): Index(['0.00315408', '0.00364992', '0.00404992', '0.0045832', '0.00462912',\n",
       "        '0.00477488', '0.00481248', '0.00493328', '0.00497904', '0.00504576',\n",
       "        ...\n",
       "        '9.99901', '9.99916', '9.99929', '9.99935', '9.99948', '9.99953',\n",
       "        '9.99967', '9.99971', '9.99986', '9.99999'],\n",
       "       dtype='object', name='time', length=113466),\n",
       " (3,\n",
       "  13): Index(['0.00315824', '0.00365408', '0.00405408', '0.00458736', '0.00463744',\n",
       "        '0.00477904', '0.0048208', '0.00493744', '0.0049832', '0.00504992',\n",
       "        ...\n",
       "        '9.98436', '9.98987', '9.98998', '9.99009', '9.99027', '9.99039',\n",
       "        '9.9905', '9.99469', '9.99476', '9.9949'],\n",
       "       dtype='object', name='time', length=68548),\n",
       " (3,\n",
       "  14): Index(['0.0031624', '0.00365824', '0.00405824', '0.00459152', '0.00464576',\n",
       "        '0.0047832', '0.00482912', '0.0049416', '0.00498736', '0.00510832',\n",
       "        ...\n",
       "        '9.99902', '9.99917', '9.9993', '9.99935', '9.99949', '9.99954',\n",
       "        '9.99968', '9.99972', '9.99987', '10'],\n",
       "       dtype='object', name='time', length=111333),\n",
       " (3,\n",
       "  15): Index(['0.00316656', '0.0036624', '0.0040624', '0.00459568', '0.00465408',\n",
       "        '0.00478736', '0.00483744', '0.00494576', '0.00499152', '0.00511248',\n",
       "        ...\n",
       "        '9.99903', '9.99917', '9.99921', '9.99936', '9.99949', '9.99955',\n",
       "        '9.99968', '9.99973', '9.99987', '9.99991'],\n",
       "       dtype='object', name='time', length=110793),\n",
       " (3,\n",
       "  16): Index(['0.103629', '0.104167', '0.113937', '0.114475', '0.114587', '0.11475',\n",
       "        '0.114867', '0.114975', '0.124242', '0.124342',\n",
       "        ...\n",
       "        '9.99904', '9.99918', '9.99922', '9.99937', '9.9995', '9.99955',\n",
       "        '9.99969', '9.99974', '9.99988', '9.99992'],\n",
       "       dtype='object', name='time', length=62394)}"
      ]
     },
     "execution_count": 25,
     "metadata": {},
     "output_type": "execute_result"
    }
   ],
   "source": [
    "rntiCellIdGrouped.groups"
   ]
  },
  {
   "cell_type": "code",
   "execution_count": 26,
   "metadata": {
    "collapsed": false,
    "scrolled": true
   },
   "outputs": [
    {
     "data": {
      "text/plain": [
       "<matplotlib.axes._subplots.AxesSubplot at 0x1f60104d358>"
      ]
     },
     "execution_count": 26,
     "metadata": {},
     "output_type": "execute_result"
    },
    {
     "data": {
      "image/png": "[encoded data removed]",
      "text/plain": [
       "<matplotlib.figure.Figure at 0x1f601070940>"
      ]
     },
     "metadata": {},
     "output_type": "display_data"
    }
   ],
   "source": [
    "rntiCellIdGrouped.get_group((1,1))['SINR(dB)'].plot(style='.')"
   ]
  },
  {
   "cell_type": "code",
   "execution_count": 27,
   "metadata": {
    "collapsed": false
   },
   "outputs": [
    {
     "data": {
      "text/plain": [
       "0           8.85417\n",
       "0          15.11700\n",
       "0          16.46700\n",
       "15          8.85417\n",
       "15         15.11700\n",
       "             ...   \n",
       "1114134    17.43250\n",
       "1114136    17.47580\n",
       "1114138    10.73670\n",
       "1114139    17.43250\n",
       "314142     10.73670\n",
       "Name: SINR(dB), Length: 568161, dtype: float64"
      ]
     },
     "execution_count": 27,
     "metadata": {},
     "output_type": "execute_result"
    }
   ],
   "source": [
    "rntiGrouped.get_group(1)['SINR(dB)']"
   ]
  },
  {
   "cell_type": "code",
   "execution_count": 28,
   "metadata": {
    "collapsed": false
   },
   "outputs": [
    {
     "data": {
      "image/png": "[encoded data removed]",
      "text/plain": [
       "<matplotlib.figure.Figure at 0x1f5871e1ef0>"
      ]
     },
     "metadata": {},
     "output_type": "display_data"
    }
   ],
   "source": [
    "for grp in rntiGrouped.groups:\n",
    "    rntiGrouped.get_group(grp)['SINR(dB)'].plot(style='.')\n"
   ]
  },
  {
   "cell_type": "markdown",
   "metadata": {},
   "source": [
    "## Single points (immediate disconnection)\n",
    "\n",
    "When an user device tries to connect to some eNB it first tries to get an identifier (rnti), if the SINR is too low (tipically with -15 dB, meaning that a connection was lost) then this rnti generated will be present in a single timestep, thus generating an rnti that has a single point in the SINR graph."
   ]
  },
  {
   "cell_type": "code",
   "execution_count": 52,
   "metadata": {
    "collapsed": false
   },
   "outputs": [],
   "source": [
    "onePoint = []\n",
    "for i in rntiGrouped.groups.keys():\n",
    "    nPoints = len(rntiGrouped.get_group(i)['SINR(dB)'])\n",
    "    if nPoints == 1:\n",
    "        print(f\"{i} : {d['time'].inverse_transform(rntiGrouped.get_group(i).index.values)} : {rntiGrouped.get_group(i)['SINR(dB)'].values}\")\n",
    "        onePoint.append(i)"
   ]
  },
  {
   "cell_type": "code",
   "execution_count": 53,
   "metadata": {
    "collapsed": true
   },
   "outputs": [],
   "source": [
    "filteredOnePoints = rxDF_scenario[rxDF_scenario['rnti'].isin(onePoint)]"
   ]
  },
  {
   "cell_type": "code",
   "execution_count": 55,
   "metadata": {
    "collapsed": false
   },
   "outputs": [
    {
     "name": "stdout",
     "output_type": "stream",
     "text": [
      "No UE was immediately disconnected\n"
     ]
    }
   ],
   "source": [
    "if len(filteredOnePoints) > 0:\n",
    "    print(filteredOnePoints['SINR(dB)'].min(), filteredOnePoints['SINR(dB)'].mean(), filteredOnePoints['SINR(dB)'].max())\n",
    "else:\n",
    "    print(\"No UE was immediately disconnected\")"
   ]
  },
  {
   "cell_type": "code",
   "execution_count": 39,
   "metadata": {
    "collapsed": false
   },
   "outputs": [
    {
     "name": "stdout",
     "output_type": "stream",
     "text": [
      "1 : 568161 :1.1831 : 13.811742692652253 :21.9356\n",
      "2 : 549801 :-5.63125 : 17.095181481839802 :44.8972\n",
      "3 : 518524 :-8.41992 : 0.7924401583776258 :5.65766\n",
      "4 : 522200 :-5.83256 : 5.143472826287245 :15.0507\n",
      "5 : 391229 :-7.92203 : 18.437136068108444 :27.6789\n",
      "6 : 322332 :-2.75827 : 11.094353646029559 :19.6637\n",
      "7 : 317259 :-7.09418 : 9.42282024820352 :26.5112\n",
      "8 : 321266 :25.9567 : 33.51139651192471 :37.8712\n",
      "9 : 317721 :-6.67774 : 4.260169771729034 :15.0599\n",
      "10 : 266750 :-11.3762 : 0.390806281094283 :5.69405\n",
      "11 : 115670 :9.62822 : 14.938224853808249 :19.1083\n",
      "12 : 113466 :6.0542 : 13.630592837854515 :17.7105\n",
      "13 : 68548 :-12.5641 : -3.5546715208321182 :-1.21484\n",
      "14 : 111333 :-1.72109 : 4.047068456216935 :7.83228\n",
      "15 : 110793 :7.43099 : 15.17450233299938 :18.7803\n",
      "16 : 62394 :-11.0878 : -3.7729157016700325 :-1.17349\n"
     ]
    }
   ],
   "source": [
    "#for grp in rntiGrouped.groups:\n",
    "for i in rntiGrouped.groups.keys():\n",
    "    nPoints = len(rntiGrouped.get_group(i)['SINR(dB)'])\n",
    "    if nPoints > 1:\n",
    "        \n",
    "        print(f\"{i} : {nPoints} :\" \\\n",
    "              f\"{rntiGrouped.get_group(i)['SINR(dB)'].min()} : \" \\\n",
    "              f\"{rntiGrouped.get_group(i)['SINR(dB)'].mean()} :\" \\\n",
    "              f\"{rntiGrouped.get_group(i)['SINR(dB)'].max()}\" \\\n",
    "            )\n",
    "#    rntiGrouped.get_group(147)['SINR(dB)'].plot(style='.')"
   ]
  },
  {
   "cell_type": "code",
   "execution_count": 40,
   "metadata": {
    "collapsed": false
   },
   "outputs": [
    {
     "data": {
      "text/plain": [
       "21826     -5.36077\n",
       "21945     -5.36077\n",
       "24094     -5.36077\n",
       "24213     -5.36077\n",
       "24238     -5.36077\n",
       "            ...   \n",
       "1114098   -4.73856\n",
       "1114112   -4.73856\n",
       "1114117   -4.73856\n",
       "1114131   -4.73856\n",
       "1114135   -4.73856\n",
       "Name: SINR(dB), Length: 62394, dtype: float64"
      ]
     },
     "execution_count": 40,
     "metadata": {},
     "output_type": "execute_result"
    }
   ],
   "source": [
    "rntiGrouped.get_group(list(rntiGrouped.groups.keys())[-1])['SINR(dB)']"
   ]
  },
  {
   "cell_type": "code",
   "execution_count": 41,
   "metadata": {
    "collapsed": false,
    "scrolled": true
   },
   "outputs": [
    {
     "data": {
      "text/plain": [
       "rnti\n",
       "1     Axes(0.125,0.125;0.775x0.755)\n",
       "2     Axes(0.125,0.125;0.775x0.755)\n",
       "3     Axes(0.125,0.125;0.775x0.755)\n",
       "4     Axes(0.125,0.125;0.775x0.755)\n",
       "5     Axes(0.125,0.125;0.775x0.755)\n",
       "6     Axes(0.125,0.125;0.775x0.755)\n",
       "7     Axes(0.125,0.125;0.775x0.755)\n",
       "8     Axes(0.125,0.125;0.775x0.755)\n",
       "9     Axes(0.125,0.125;0.775x0.755)\n",
       "10    Axes(0.125,0.125;0.775x0.755)\n",
       "11    Axes(0.125,0.125;0.775x0.755)\n",
       "12    Axes(0.125,0.125;0.775x0.755)\n",
       "13    Axes(0.125,0.125;0.775x0.755)\n",
       "14    Axes(0.125,0.125;0.775x0.755)\n",
       "15    Axes(0.125,0.125;0.775x0.755)\n",
       "16    Axes(0.125,0.125;0.775x0.755)\n",
       "Name: SINR(dB), dtype: object"
      ]
     },
     "execution_count": 41,
     "metadata": {},
     "output_type": "execute_result"
    },
    {
     "data": {
      "image/png": "[encoded data removed]",
      "text/plain": [
       "<matplotlib.figure.Figure at 0x1f5874ce1d0>"
      ]
     },
     "metadata": {},
     "output_type": "display_data"
    }
   ],
   "source": [
    "rntiGrouped['SINR(dB)'].plot(style='x', figsize=(15,15))"
   ]
  },
  {
   "cell_type": "code",
   "execution_count": null,
   "metadata": {
    "collapsed": true
   },
   "outputs": [],
   "source": []
  }
 ],
 "metadata": {
  "kernelspec": {
   "display_name": "Python 3",
   "language": "python",
   "name": "python3"
  },
  "language_info": {
   "codemirror_mode": {
    "name": "ipython",
    "version": 3
   },
   "file_extension": ".py",
   "mimetype": "text/x-python",
   "name": "python",
   "nbconvert_exporter": "python",
   "pygments_lexer": "ipython3",
   "version": "3.6.6"
  }
 },
 "nbformat": 4,
 "nbformat_minor": 2
}
