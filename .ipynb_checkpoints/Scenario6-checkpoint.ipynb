{
 "cells": [
  {
   "cell_type": "code",
   "execution_count": null,
   "metadata": {
    "collapsed": true
   },
   "outputs": [],
   "source": [
    "scenario_folder = 'scenario6/'"
   ]
  },
  {
   "cell_type": "code",
   "execution_count": 1,
   "metadata": {
    "collapsed": true
   },
   "outputs": [],
   "source": [
    "%matplotlib inline"
   ]
  },
  {
   "cell_type": "code",
   "execution_count": 2,
   "metadata": {
    "collapsed": true
   },
   "outputs": [],
   "source": [
    "import os\n",
    "import csv\n",
    "import pandas as pd\n",
    "import numpy as np\n",
    "import matplotlib.pylab as plt"
   ]
  },
  {
   "cell_type": "code",
   "execution_count": 3,
   "metadata": {
    "collapsed": true
   },
   "outputs": [],
   "source": [
    "from sklearn.preprocessing import LabelEncoder"
   ]
  },
  {
   "cell_type": "code",
   "execution_count": 4,
   "metadata": {
    "collapsed": true
   },
   "outputs": [],
   "source": [
    "def getRxPacketFile(eNBArray, UEArray, basefolder = ''):\n",
    "    \"\"\" Gets the RxPacketTrace file with\n",
    "    len(eNBArray) eNBs (radio base station) containers and with\n",
    "    len(UEArray) UE (user equipment) containers.\n",
    "    The filename will be for example:\n",
    "    'RxPacketTrace_e1_e2_e3_u1_u2.txt'\n",
    "    where e1, e2 and e3 are three eNB containers (representing\n",
    "    a number of antenas for container), u1 and u2 will be\n",
    "    user equipment containers, (representing for example 2 rooms\n",
    "    each with u1 and u2 user equipments respectively).\"\"\"\n",
    "    eNBString = ''\n",
    "    UEString = ''\n",
    "    if (len(eNBArray) > 0) and (len(UEArray) > 0):\n",
    "        for numENB in eNBArray:\n",
    "            eNBString = eNBString + '_' + str(numENB)\n",
    "        for numUE in UEArray:\n",
    "            UEString = UEString + '_' + str(numUE)\n",
    "    \n",
    "    \n",
    "    filename = basefolder + 'RxPacketTrace' + eNBString + UEString + '.txt'\n",
    "    if os.path.isfile(filename):\n",
    "#        rxpacketfile = open(filename, \"r\")\n",
    "#        return csv.DictReader(rxpacketfile, delimiter='\\t')\n",
    "        with open(filename, \"r\") as rxpacketfile:\n",
    "            return pd.read_csv(rxpacketfile, sep='\\t', \\\n",
    "                               names=['mode', 'time', 'frame', 'subF', '1stSym', \\\n",
    "                                   'symbol#', 'cellId', 'rnti', 'ccId', 'tbSize', 'mcs', 'rv', \\\n",
    "                                   'SINR(dB)', 'corrupt', 'TBler'], \\\n",
    "                               dtype={'mode': str}, \\\n",
    "                               index_col=1,\n",
    "                               low_memory=False,\n",
    "                               #skiprows=0,\n",
    "                               #header=0,\n",
    "                               verbose=True,\n",
    "                               \n",
    "                              )\n",
    "    else:\n",
    "        return None\n",
    "    \n",
    "\n",
    "        "
   ]
  },
  {
   "cell_type": "code",
   "execution_count": 5,
   "metadata": {
    "collapsed": true
   },
   "outputs": [],
   "source": [
    "def getTcpWindowFile(basefolder = '', UENum=''):\n",
    "    \"\"\" Gets the mmWave-tcp-window-newreno.txt.\n",
    "    This file contains the following structure:\n",
    "    TIMESTAMP \\t OLD_CWND \\t NEW_CWND\n",
    "    \n",
    "    where CWND is the tcp congestion window size.\n",
    "    \n",
    "    The file doesn't contain a header and is tab separeted\n",
    "    \n",
    "    \"\"\"\n",
    "    filename = basefolder + 'mmWave-tcp-window-newreno'+UENum+'.txt'\n",
    "    if os.path.isfile(filename):\n",
    "#        rxpacketfile = open(filename, \"r\")\n",
    "#        return csv.DictReader(rxpacketfile, delimiter='\\t')\n",
    "        with open(filename, \"r\") as file:\n",
    "            return pd.read_csv(file, sep='\\t', \\\n",
    "                               names=['time', 'old_CWND', 'new_CWND'],\n",
    "                               index_col=0,\n",
    "                               low_memory=False,\n",
    "                               #skiprows=0,\n",
    "                               #header=0,\n",
    "                               verbose=True,\n",
    "                              )\n",
    "    else:\n",
    "        return None\n",
    "    \n",
    "\n",
    "        "
   ]
  },
  {
   "cell_type": "code",
   "execution_count": 6,
   "metadata": {
    "collapsed": true
   },
   "outputs": [],
   "source": [
    "def getTcpRTTFile(basefolder = '', UENum=''):\n",
    "    \"\"\" Gets the mmWave-tcp-rtt-newreno.txt.\n",
    "    This file contains the following structure:\n",
    "    TIMESTAMP \\t OLD_RTT \\t NEW_RTT\n",
    "    \n",
    "    where RTT is the round-time-trip.\n",
    "    \n",
    "    The file doesn't contain a header and is tab separeted\n",
    "    \n",
    "    \"\"\"\n",
    "    filename = basefolder + 'mmWave-tcp-rtt-newreno'+UENum+'.txt'\n",
    "    if os.path.isfile(filename):\n",
    "        with open(filename, \"r\") as file:\n",
    "            return pd.read_csv(file, sep='\\t', \\\n",
    "                               names=['time', 'old_RTT', 'new_RTT'],\n",
    "                               index_col=0,\n",
    "                               low_memory=False,\n",
    "                               #skiprows=0,\n",
    "                               #header=0,\n",
    "                               verbose=True,\n",
    "                              )\n",
    "    else:\n",
    "        return None\n",
    "    \n",
    "\n",
    "        "
   ]
  },
  {
   "cell_type": "code",
   "execution_count": 7,
   "metadata": {
    "collapsed": true
   },
   "outputs": [],
   "source": [
    "def getTcpDataFile(basefolder = '', UENum=''):\n",
    "    \"\"\" Gets the mmWave-tcp-rtt-newreno.txt.\n",
    "    This file contains the following structure:\n",
    "    TIMESTAMP \\t PKG_SIZE\n",
    "    \n",
    "    where PKG_SIZE is the size of the received package\n",
    "    \n",
    "    The file doesn't contain a header and is tab separeted.\n",
    "    \n",
    "    \"\"\"\n",
    "    filename = basefolder + 'mmWave-tcp-data-newreno'+UENum+'.txt'\n",
    "    if os.path.isfile(filename):\n",
    "        with open(filename, \"r\") as file:\n",
    "            return pd.read_csv(file, sep='\\t', \\\n",
    "                               names=['time', 'PKG_SIZE'],\n",
    "                               index_col=0,\n",
    "                               low_memory=False,\n",
    "                               #skiprows=0,\n",
    "                               #header=0,\n",
    "                               verbose=True,\n",
    "                              )\n",
    "    else:\n",
    "        return None\n",
    "    \n",
    "\n",
    "        "
   ]
  },
  {
   "cell_type": "code",
   "execution_count": 8,
   "metadata": {
    "collapsed": false,
    "scrolled": true
   },
   "outputs": [
    {
     "data": {
      "text/plain": [
       "['paulista_back_tcp',\n",
       " 'Scenario9.ipynb',\n",
       " 'paulista_double_tcp',\n",
       " '.ipynb_checkpoints',\n",
       " 'Scenario8.ipynb',\n",
       " 'paulista_tcp',\n",
       " 'Scenario10.1.ipynb',\n",
       " 'test_10sec_antipodal_shadow_off',\n",
       " 'Scenario10.ipynb',\n",
       " 'Scenario7.ipynb',\n",
       " 'Scenario4.ipynb',\n",
       " '.gitignore',\n",
       " 'Scenario11.ipynb',\n",
       " '.gitattributes',\n",
       " 'test_10sec_5_10_15_shadow_off',\n",
       " 'Scenario3.ipynb']"
      ]
     },
     "execution_count": 8,
     "metadata": {},
     "output_type": "execute_result"
    }
   ],
   "source": [
    "os.listdir()"
   ]
  },
  {
   "cell_type": "code",
   "execution_count": 9,
   "metadata": {
    "collapsed": false
   },
   "outputs": [
    {
     "name": "stdout",
     "output_type": "stream",
     "text": [
      "Tokenization took: 419.23 ms\n",
      "Type conversion took: 816.50 ms\n",
      "Parser memory cleanup took: 12.16 ms\n",
      "Tokenization took: 258.19 ms\n",
      "Type conversion took: 141.02 ms\n",
      "Parser memory cleanup took: 3.39 ms\n"
     ]
    },
    {
     "name": "stderr",
     "output_type": "stream",
     "text": [
      "/home/arturao/miniconda3/envs/tf36/lib/python3.6/site-packages/numpy/lib/arraysetops.py:569: FutureWarning: elementwise comparison failed; returning scalar instead, but in the future will perform elementwise comparison\n",
      "  mask |= (ar1 == a)\n"
     ]
    },
    {
     "name": "stdout",
     "output_type": "stream",
     "text": [
      "Tokenization took: 305.64 ms\n",
      "Type conversion took: 171.84 ms\n",
      "Parser memory cleanup took: 4.31 ms\n",
      "Tokenization took: 321.23 ms\n",
      "Type conversion took: 153.74 ms\n",
      "Parser memory cleanup took: 5.38 ms\n",
      "Tokenization took: 252.02 ms\n",
      "Type conversion took: 144.78 ms\n",
      "Parser memory cleanup took: 3.90 ms\n",
      "Tokenization took: 253.05 ms\n",
      "Type conversion took: 179.80 ms\n",
      "Parser memory cleanup took: 3.70 ms\n",
      "Tokenization took: 277.23 ms\n",
      "Type conversion took: 141.68 ms\n",
      "Parser memory cleanup took: 4.96 ms\n"
     ]
    }
   ],
   "source": [
    "eNBs = []\n",
    "UEs = []\n",
    "\n",
    "rxDF_scenario = getRxPacketFile(eNBs,UEs, scenario_folder)\n",
    "\n",
    "cwndDF0_scenario = getTcpWindowFile(scenario_folder, '0')\n",
    "rttDF0_scenario = getTcpRTTFile(scenario_folder, '0')\n",
    "dataDF0_scenario = getTcpDataFile(scenario_folder, '0')\n",
    "\n",
    "cwndDF1_scenario = getTcpWindowFile(scenario_folder, '1')\n",
    "rttDF1_scenario = getTcpRTTFile(scenario_folder, '1')\n",
    "dataDF1_scenario = getTcpDataFile(scenario_folder, '1')"
   ]
  },
  {
   "cell_type": "code",
   "execution_count": 10,
   "metadata": {
    "collapsed": false
   },
   "outputs": [
    {
     "name": "stdout",
     "output_type": "stream",
     "text": [
      "RxPacket file loaded as dataframe (eNBs: []), (UEs: [])\n"
     ]
    }
   ],
   "source": [
    "if rxDF_scenario is None:\n",
    "    print('RxPacket file not found!')\n",
    "else:\n",
    "    rxDF_scenario = rxDF_scenario[1:].copy() #First line (headers) is skipped\n",
    "    print(f'RxPacket file loaded as dataframe (eNBs: {eNBs}), (UEs: {UEs})')\n",
    "    rxDF_scenario.index = rxDF_scenario.index.astype('float')\n",
    "    rxDF_scenario['SINR(dB)']   = pd.DataFrame(rxDF_scenario['SINR(dB)'], dtype='float')\n",
    "    rxDF_scenario['rnti']       = pd.DataFrame(rxDF_scenario['rnti'], dtype='int')\n",
    "    rxDF_scenario['cellId']     = pd.DataFrame(rxDF_scenario['cellId'], dtype='int')\n",
    "    rxDF_scenario['TBler']      = pd.DataFrame(rxDF_scenario['TBler'], dtype='float')"
   ]
  },
  {
   "cell_type": "code",
   "execution_count": 11,
   "metadata": {
    "collapsed": false
   },
   "outputs": [
    {
     "data": {
      "text/html": [
       "<div>\n",
       "<style scoped>\n",
       "    .dataframe tbody tr th:only-of-type {\n",
       "        vertical-align: middle;\n",
       "    }\n",
       "\n",
       "    .dataframe tbody tr th {\n",
       "        vertical-align: top;\n",
       "    }\n",
       "\n",
       "    .dataframe thead th {\n",
       "        text-align: right;\n",
       "    }\n",
       "</style>\n",
       "<table border=\"1\" class=\"dataframe\">\n",
       "  <thead>\n",
       "    <tr style=\"text-align: right;\">\n",
       "      <th></th>\n",
       "      <th>mode</th>\n",
       "      <th>frame</th>\n",
       "      <th>subF</th>\n",
       "      <th>1stSym</th>\n",
       "      <th>symbol#</th>\n",
       "      <th>cellId</th>\n",
       "      <th>rnti</th>\n",
       "      <th>ccId</th>\n",
       "      <th>tbSize</th>\n",
       "      <th>mcs</th>\n",
       "      <th>rv</th>\n",
       "      <th>SINR(dB)</th>\n",
       "      <th>corrupt</th>\n",
       "      <th>TBler</th>\n",
       "    </tr>\n",
       "    <tr>\n",
       "      <th>time</th>\n",
       "      <th></th>\n",
       "      <th></th>\n",
       "      <th></th>\n",
       "      <th></th>\n",
       "      <th></th>\n",
       "      <th></th>\n",
       "      <th></th>\n",
       "      <th></th>\n",
       "      <th></th>\n",
       "      <th></th>\n",
       "      <th></th>\n",
       "      <th></th>\n",
       "      <th></th>\n",
       "      <th></th>\n",
       "    </tr>\n",
       "  </thead>\n",
       "  <tbody>\n",
       "    <tr>\n",
       "      <th>24.9999</th>\n",
       "      <td>UL</td>\n",
       "      <td>24999</td>\n",
       "      <td>8</td>\n",
       "      <td>20</td>\n",
       "      <td>1</td>\n",
       "      <td>1</td>\n",
       "      <td>1</td>\n",
       "      <td>0</td>\n",
       "      <td>1776</td>\n",
       "      <td>28</td>\n",
       "      <td>0</td>\n",
       "      <td>40.4263</td>\n",
       "      <td>0</td>\n",
       "      <td>0.0</td>\n",
       "    </tr>\n",
       "    <tr>\n",
       "      <th>24.9999</th>\n",
       "      <td>UL</td>\n",
       "      <td>24999</td>\n",
       "      <td>8</td>\n",
       "      <td>21</td>\n",
       "      <td>1</td>\n",
       "      <td>1</td>\n",
       "      <td>2</td>\n",
       "      <td>0</td>\n",
       "      <td>1776</td>\n",
       "      <td>28</td>\n",
       "      <td>0</td>\n",
       "      <td>41.7244</td>\n",
       "      <td>0</td>\n",
       "      <td>0.0</td>\n",
       "    </tr>\n",
       "    <tr>\n",
       "      <th>25.0000</th>\n",
       "      <td>DL</td>\n",
       "      <td>24999</td>\n",
       "      <td>9</td>\n",
       "      <td>1</td>\n",
       "      <td>13</td>\n",
       "      <td>1</td>\n",
       "      <td>1</td>\n",
       "      <td>0</td>\n",
       "      <td>23154</td>\n",
       "      <td>28</td>\n",
       "      <td>0</td>\n",
       "      <td>40.4263</td>\n",
       "      <td></td>\n",
       "      <td>0.0</td>\n",
       "    </tr>\n",
       "    <tr>\n",
       "      <th>25.0000</th>\n",
       "      <td>DL</td>\n",
       "      <td>24999</td>\n",
       "      <td>9</td>\n",
       "      <td>14</td>\n",
       "      <td>8</td>\n",
       "      <td>1</td>\n",
       "      <td>2</td>\n",
       "      <td>0</td>\n",
       "      <td>14247</td>\n",
       "      <td>28</td>\n",
       "      <td>0</td>\n",
       "      <td>41.7244</td>\n",
       "      <td></td>\n",
       "      <td>0.0</td>\n",
       "    </tr>\n",
       "    <tr>\n",
       "      <th>25.0000</th>\n",
       "      <td>UL</td>\n",
       "      <td>24999</td>\n",
       "      <td>9</td>\n",
       "      <td>22</td>\n",
       "      <td>1</td>\n",
       "      <td>1</td>\n",
       "      <td>1</td>\n",
       "      <td>0</td>\n",
       "      <td>1776</td>\n",
       "      <td>28</td>\n",
       "      <td>0</td>\n",
       "      <td>40.4263</td>\n",
       "      <td>0</td>\n",
       "      <td>0.0</td>\n",
       "    </tr>\n",
       "  </tbody>\n",
       "</table>\n",
       "</div>"
      ],
      "text/plain": [
       "        mode  frame subF 1stSym symbol#  cellId  rnti ccId tbSize mcs rv  \\\n",
       "time                                                                       \n",
       "24.9999   UL  24999    8     20       1       1     1    0   1776  28  0   \n",
       "24.9999   UL  24999    8     21       1       1     2    0   1776  28  0   \n",
       "25.0000   DL  24999    9      1      13       1     1    0  23154  28  0   \n",
       "25.0000   DL  24999    9     14       8       1     2    0  14247  28  0   \n",
       "25.0000   UL  24999    9     22       1       1     1    0   1776  28  0   \n",
       "\n",
       "         SINR(dB) corrupt  TBler  \n",
       "time                              \n",
       "24.9999   40.4263       0    0.0  \n",
       "24.9999   41.7244       0    0.0  \n",
       "25.0000   40.4263            0.0  \n",
       "25.0000   41.7244            0.0  \n",
       "25.0000   40.4263       0    0.0  "
      ]
     },
     "execution_count": 11,
     "metadata": {},
     "output_type": "execute_result"
    }
   ],
   "source": [
    "rxDF_scenario.tail()"
   ]
  },
  {
   "cell_type": "code",
   "execution_count": 12,
   "metadata": {
    "collapsed": false
   },
   "outputs": [
    {
     "data": {
      "text/plain": [
       "Float64Index([0.00310832, 0.00311248, 0.00360832, 0.00361248, 0.00400832,\n",
       "              0.00401248,  0.0331125,  0.0331208,  0.0336083,  0.0336125,\n",
       "              ...\n",
       "                 24.9998,    24.9998,    24.9998,    24.9998,    24.9999,\n",
       "                 24.9999,    24.9999,       25.0,       25.0,       25.0],\n",
       "             dtype='float64', name='time', length=842456)"
      ]
     },
     "execution_count": 12,
     "metadata": {},
     "output_type": "execute_result"
    }
   ],
   "source": [
    "rxDF_scenario.index"
   ]
  },
  {
   "cell_type": "code",
   "execution_count": 13,
   "metadata": {
    "collapsed": false
   },
   "outputs": [
    {
     "data": {
      "text/html": [
       "<div>\n",
       "<style scoped>\n",
       "    .dataframe tbody tr th:only-of-type {\n",
       "        vertical-align: middle;\n",
       "    }\n",
       "\n",
       "    .dataframe tbody tr th {\n",
       "        vertical-align: top;\n",
       "    }\n",
       "\n",
       "    .dataframe thead th {\n",
       "        text-align: right;\n",
       "    }\n",
       "</style>\n",
       "<table border=\"1\" class=\"dataframe\">\n",
       "  <thead>\n",
       "    <tr style=\"text-align: right;\">\n",
       "      <th></th>\n",
       "      <th>old_CWND</th>\n",
       "      <th>new_CWND</th>\n",
       "    </tr>\n",
       "    <tr>\n",
       "      <th>time</th>\n",
       "      <th></th>\n",
       "      <th></th>\n",
       "    </tr>\n",
       "  </thead>\n",
       "  <tbody>\n",
       "    <tr>\n",
       "      <th>0.122913</th>\n",
       "      <td>0</td>\n",
       "      <td>1400</td>\n",
       "    </tr>\n",
       "    <tr>\n",
       "      <th>0.145908</th>\n",
       "      <td>1400</td>\n",
       "      <td>2800</td>\n",
       "    </tr>\n",
       "    <tr>\n",
       "      <th>0.169008</th>\n",
       "      <td>2800</td>\n",
       "      <td>4200</td>\n",
       "    </tr>\n",
       "    <tr>\n",
       "      <th>0.192108</th>\n",
       "      <td>4200</td>\n",
       "      <td>5600</td>\n",
       "    </tr>\n",
       "    <tr>\n",
       "      <th>0.215108</th>\n",
       "      <td>5600</td>\n",
       "      <td>7000</td>\n",
       "    </tr>\n",
       "  </tbody>\n",
       "</table>\n",
       "</div>"
      ],
      "text/plain": [
       "          old_CWND  new_CWND\n",
       "time                        \n",
       "0.122913         0      1400\n",
       "0.145908      1400      2800\n",
       "0.169008      2800      4200\n",
       "0.192108      4200      5600\n",
       "0.215108      5600      7000"
      ]
     },
     "execution_count": 13,
     "metadata": {},
     "output_type": "execute_result"
    }
   ],
   "source": [
    "cwndDF0_scenario.head()"
   ]
  },
  {
   "cell_type": "code",
   "execution_count": 14,
   "metadata": {
    "collapsed": false
   },
   "outputs": [
    {
     "data": {
      "text/html": [
       "<div>\n",
       "<style scoped>\n",
       "    .dataframe tbody tr th:only-of-type {\n",
       "        vertical-align: middle;\n",
       "    }\n",
       "\n",
       "    .dataframe tbody tr th {\n",
       "        vertical-align: top;\n",
       "    }\n",
       "\n",
       "    .dataframe thead th {\n",
       "        text-align: right;\n",
       "    }\n",
       "</style>\n",
       "<table border=\"1\" class=\"dataframe\">\n",
       "  <thead>\n",
       "    <tr style=\"text-align: right;\">\n",
       "      <th></th>\n",
       "      <th>old_RTT</th>\n",
       "      <th>new_RTT</th>\n",
       "    </tr>\n",
       "    <tr>\n",
       "      <th>time</th>\n",
       "      <th></th>\n",
       "      <th></th>\n",
       "    </tr>\n",
       "  </thead>\n",
       "  <tbody>\n",
       "    <tr>\n",
       "      <th>0.122913</th>\n",
       "      <td>0.000000</td>\n",
       "      <td>0.022000</td>\n",
       "    </tr>\n",
       "    <tr>\n",
       "      <th>0.145908</th>\n",
       "      <td>0.022000</td>\n",
       "      <td>0.022125</td>\n",
       "    </tr>\n",
       "    <tr>\n",
       "      <th>0.169008</th>\n",
       "      <td>0.022125</td>\n",
       "      <td>0.022359</td>\n",
       "    </tr>\n",
       "    <tr>\n",
       "      <th>0.192108</th>\n",
       "      <td>0.022359</td>\n",
       "      <td>0.022440</td>\n",
       "    </tr>\n",
       "    <tr>\n",
       "      <th>0.215108</th>\n",
       "      <td>0.022440</td>\n",
       "      <td>0.025385</td>\n",
       "    </tr>\n",
       "  </tbody>\n",
       "</table>\n",
       "</div>"
      ],
      "text/plain": [
       "           old_RTT   new_RTT\n",
       "time                        \n",
       "0.122913  0.000000  0.022000\n",
       "0.145908  0.022000  0.022125\n",
       "0.169008  0.022125  0.022359\n",
       "0.192108  0.022359  0.022440\n",
       "0.215108  0.022440  0.025385"
      ]
     },
     "execution_count": 14,
     "metadata": {},
     "output_type": "execute_result"
    }
   ],
   "source": [
    "rttDF0_scenario.head()"
   ]
  },
  {
   "cell_type": "code",
   "execution_count": 15,
   "metadata": {
    "collapsed": false
   },
   "outputs": [
    {
     "data": {
      "text/html": [
       "<div>\n",
       "<style scoped>\n",
       "    .dataframe tbody tr th:only-of-type {\n",
       "        vertical-align: middle;\n",
       "    }\n",
       "\n",
       "    .dataframe tbody tr th {\n",
       "        vertical-align: top;\n",
       "    }\n",
       "\n",
       "    .dataframe thead th {\n",
       "        text-align: right;\n",
       "    }\n",
       "</style>\n",
       "<table border=\"1\" class=\"dataframe\">\n",
       "  <thead>\n",
       "    <tr style=\"text-align: right;\">\n",
       "      <th></th>\n",
       "      <th>PKG_SIZE</th>\n",
       "    </tr>\n",
       "    <tr>\n",
       "      <th>time</th>\n",
       "      <th></th>\n",
       "    </tr>\n",
       "  </thead>\n",
       "  <tbody>\n",
       "    <tr>\n",
       "      <th>0.134537</th>\n",
       "      <td>1400</td>\n",
       "    </tr>\n",
       "    <tr>\n",
       "      <th>0.157550</th>\n",
       "      <td>1400</td>\n",
       "    </tr>\n",
       "    <tr>\n",
       "      <th>0.157608</th>\n",
       "      <td>1400</td>\n",
       "    </tr>\n",
       "    <tr>\n",
       "      <th>0.180650</th>\n",
       "      <td>1400</td>\n",
       "    </tr>\n",
       "    <tr>\n",
       "      <th>0.180712</th>\n",
       "      <td>1400</td>\n",
       "    </tr>\n",
       "  </tbody>\n",
       "</table>\n",
       "</div>"
      ],
      "text/plain": [
       "          PKG_SIZE\n",
       "time              \n",
       "0.134537      1400\n",
       "0.157550      1400\n",
       "0.157608      1400\n",
       "0.180650      1400\n",
       "0.180712      1400"
      ]
     },
     "execution_count": 15,
     "metadata": {},
     "output_type": "execute_result"
    }
   ],
   "source": [
    "dataDF0_scenario.head()"
   ]
  },
  {
   "cell_type": "code",
   "execution_count": 16,
   "metadata": {
    "collapsed": false
   },
   "outputs": [
    {
     "name": "stdout",
     "output_type": "stream",
     "text": [
      "[3.10832e-03 3.11248e-03 3.60832e-03 ... 2.49998e+01 2.49999e+01\n",
      " 2.50000e+01]\n"
     ]
    }
   ],
   "source": [
    "mergedIndexes = np.concatenate((\n",
    "    rxDF_scenario.index,\n",
    "\n",
    "    cwndDF0_scenario.index,\n",
    "    rttDF0_scenario.index,\n",
    "    dataDF0_scenario.index,\n",
    "\n",
    "    cwndDF1_scenario.index,\n",
    "    rttDF1_scenario.index,\n",
    "    dataDF1_scenario.index\n",
    "))\n",
    "mergedIndexes.sort(kind='merge')\n",
    "mergedIndexes = np.unique(mergedIndexes)\n",
    "print(mergedIndexes)"
   ]
  },
  {
   "cell_type": "code",
   "execution_count": 17,
   "metadata": {
    "collapsed": true
   },
   "outputs": [],
   "source": [
    "from collections import defaultdict\n",
    "d = defaultdict(LabelEncoder)"
   ]
  },
  {
   "cell_type": "code",
   "execution_count": 18,
   "metadata": {
    "collapsed": true
   },
   "outputs": [],
   "source": [
    "integerIndexes = d['time'].fit_transform(mergedIndexes)"
   ]
  },
  {
   "cell_type": "code",
   "execution_count": 19,
   "metadata": {
    "collapsed": false
   },
   "outputs": [
    {
     "data": {
      "text/plain": [
       "array([     0,      1,      2, ..., 549982, 549983, 549984])"
      ]
     },
     "execution_count": 19,
     "metadata": {},
     "output_type": "execute_result"
    }
   ],
   "source": [
    "integerIndexes"
   ]
  },
  {
   "cell_type": "code",
   "execution_count": 20,
   "metadata": {
    "collapsed": true
   },
   "outputs": [],
   "source": [
    "rxDF_scenario = rxDF_scenario.set_index(d['time'].transform(rxDF_scenario.index));\n",
    "\n",
    "cwndDF0_scenario = cwndDF0_scenario.set_index(d['time'].transform(cwndDF0_scenario.index));\n",
    "rttDF0_scenario = rttDF0_scenario.set_index(d['time'].transform(rttDF0_scenario.index));\n",
    "dataDF0_scenario = dataDF0_scenario.set_index(d['time'].transform(dataDF0_scenario.index));\n",
    "\n",
    "cwndDF1_scenario = cwndDF1_scenario.set_index(d['time'].transform(cwndDF1_scenario.index));\n",
    "rttDF1_scenario = rttDF1_scenario.set_index(d['time'].transform(rttDF1_scenario.index));\n",
    "dataDF1_scenario = dataDF1_scenario.set_index(d['time'].transform(dataDF1_scenario.index));"
   ]
  },
  {
   "cell_type": "code",
   "execution_count": 21,
   "metadata": {
    "collapsed": false
   },
   "outputs": [
    {
     "data": {
      "text/plain": [
       "array([1])"
      ]
     },
     "execution_count": 21,
     "metadata": {},
     "output_type": "execute_result"
    }
   ],
   "source": [
    "np.unique(rxDF_scenario['cellId'])"
   ]
  },
  {
   "cell_type": "code",
   "execution_count": 22,
   "metadata": {
    "collapsed": false,
    "scrolled": true
   },
   "outputs": [
    {
     "name": "stdout",
     "output_type": "stream",
     "text": [
      "unique rnti's: [1 2]\n",
      "\n",
      "\n",
      "Number of unique rnti's: 2\n",
      "\n",
      "\n",
      " RNTI 1:\n",
      "       mode  frame subF 1stSym symbol#  cellId  rnti ccId tbSize mcs rv  \\\n",
      "0        DL      3    1      1       1       1     1    0     48   0  0   \n",
      "2        UL      3    6      1       1       1     1    0     48   0  0   \n",
      "4        DL      4    0      1       1       1     1    0   1776  28  0   \n",
      "6        DL     33    1      1       2       1     1    0    100   0  0   \n",
      "8        UL     33    6      1       1       1     1    0     48   0  0   \n",
      "10       DL     34    0      1       1       1     1    0   1776  28  0   \n",
      "12       DL    111    3      1       2       1     1    0    100   0  0   \n",
      "14       UL    111    8      1       2       1     1    0    100   0  0   \n",
      "16       DL    112    2      1       1       1     1    0   1776  28  0   \n",
      "20       DL    134    2      1      11       1     1    0    567   0  0   \n",
      "22       DL    134    3      1      11       1     1    0    567   0  0   \n",
      "24       DL    134    4      1       8       1     1    0    411   0  0   \n",
      "28       UL    134    7      1       1       1     1    0     48   0  0   \n",
      "30       UL    134    8      1       1       1     1    0     48   0  0   \n",
      "32       UL    134    9      1       2       1     1    0    100   0  0   \n",
      "34       DL    135    1      1       1       1     1    0   1776  28  0   \n",
      "36       UL    139    1      1       1       1     1    0   1776  28  0   \n",
      "38       DL    139    5      1       1       1     1    0   1776  28  0   \n",
      "42       DL    157    2      1      11       1     1    0    567   0  0   \n",
      "44       DL    157    3      1      11       1     1    0    567   0  0   \n",
      "46       DL    157    4      1      11       1     1    0    567   0  0   \n",
      "48       DL    157    5      1       1       1     1    0   1776  28  0   \n",
      "54       UL    157    7      1       1       1     1    0     48   0  0   \n",
      "56       UL    157    8      1       1       1     1    0     48   0  0   \n",
      "58       UL    157    9      1       1       1     1    0     48   0  0   \n",
      "60       UL    158    0      1       1       1     1    0   1776  28  0   \n",
      "62       DL    158    2      1       1       1     1    0   1776  28  0   \n",
      "64       DL    161    2      1       1       1     1    0   1776  28  0   \n",
      "66       DL    161    5      1       1       1     1    0   1776  28  0   \n",
      "68       UL    162    0      1       1       1     1    0   1776  28  0   \n",
      "...     ...    ...  ...    ...     ...     ...   ...  ...    ...  .. ..   \n",
      "549966   DL  24998    3      1       8       1     1    0  14247  28  0   \n",
      "549967   UL  24998    3     17       1       1     1    0   1776  28  0   \n",
      "549968   DL  24998    4      9       8       1     1    0  14247  28  0   \n",
      "549968   DL  24998    5      1       8       1     1    0  14247  28  0   \n",
      "549969   UL  24998    5     17       1       1     1    0   1776  28  0   \n",
      "549970   DL  24998    6      9       8       1     1    0  14247  28  0   \n",
      "549970   UL  24998    6     18       1       1     1    0   1776  28  0   \n",
      "549970   DL  24998    7      1       8       1     1    0  14247  28  0   \n",
      "549971   UL  24998    7     20       1       1     1    0   1776  28  0   \n",
      "549971   DL  24998    8      1       9       1     1    0  16030  28  0   \n",
      "549972   UL  24998    8     20       1       1     1    0   1776  28  0   \n",
      "549973   DL  24998    9      1      12       1     1    0  21374  28  0   \n",
      "549973   UL  24998    9     21       1       1     1    0   1776  28  0   \n",
      "549975   DL  24999    0      9       8       1     1    0  14247  28  0   \n",
      "549975   UL  24999    0     17       1       1     1    0   1776  28  0   \n",
      "549976   DL  24999    1      9       8       1     1    0  14247  28  0   \n",
      "549976   DL  24999    2      1       8       1     1    0  14247  28  0   \n",
      "549977   UL  24999    2     17       1       1     1    0   1776  28  0   \n",
      "549978   DL  24999    3      9       8       1     1    0  14247  28  0   \n",
      "549978   UL  24999    3     17       1       1     1    0   1776  28  0   \n",
      "549979   DL  24999    4      9       8       1     1    0  14247  28  0   \n",
      "549979   DL  24999    5      1       8       1     1    0  14247  28  0   \n",
      "549980   UL  24999    5     17       1       1     1    0   1776  28  0   \n",
      "549981   DL  24999    6      9       8       1     1    0  14247  28  0   \n",
      "549981   UL  24999    6     17       1       1     1    0   1776  28  0   \n",
      "549982   DL  24999    7     14       8       1     1    0  14247  28  0   \n",
      "549982   DL  24999    8      1       9       1     1    0  16030  28  0   \n",
      "549983   UL  24999    8     20       1       1     1    0   1776  28  0   \n",
      "549984   DL  24999    9      1      13       1     1    0  23154  28  0   \n",
      "549984   UL  24999    9     22       1       1     1    0   1776  28  0   \n",
      "\n",
      "        SINR(dB) corrupt  TBler  \n",
      "0        38.0552            0.0  \n",
      "2        38.0552       0    0.0  \n",
      "4        38.0552            0.0  \n",
      "6        38.0552            0.0  \n",
      "8        38.0552       0    0.0  \n",
      "10       38.0552            0.0  \n",
      "12       37.6717            0.0  \n",
      "14       37.6717       0    0.0  \n",
      "16       37.6717            0.0  \n",
      "20       37.6717            0.0  \n",
      "22       37.6717            0.0  \n",
      "24       37.6717            0.0  \n",
      "28       37.6717       0    0.0  \n",
      "30       37.6717       0    0.0  \n",
      "32       37.6717       0    0.0  \n",
      "34       37.6717            0.0  \n",
      "36       37.6717       0    0.0  \n",
      "38       37.6717            0.0  \n",
      "42       37.6717            0.0  \n",
      "44       37.6717            0.0  \n",
      "46       37.6717            0.0  \n",
      "48       37.6717            0.0  \n",
      "54       37.6717       0    0.0  \n",
      "56       37.6717       0    0.0  \n",
      "58       37.6717       0    0.0  \n",
      "60       37.6717       0    0.0  \n",
      "62       37.6717            0.0  \n",
      "64       37.6717            0.0  \n",
      "66       37.6717            0.0  \n",
      "68       37.6717       0    0.0  \n",
      "...          ...     ...    ...  \n",
      "549966   40.4263            0.0  \n",
      "549967   40.4263       0    0.0  \n",
      "549968   40.4263            0.0  \n",
      "549968   40.4263            0.0  \n",
      "549969   40.4263       0    0.0  \n",
      "549970   40.4263            0.0  \n",
      "549970   40.4263       0    0.0  \n",
      "549970   40.4263            0.0  \n",
      "549971   40.4263       0    0.0  \n",
      "549971   40.4263            0.0  \n",
      "549972   40.4263       0    0.0  \n",
      "549973   40.4263            0.0  \n",
      "549973   40.4263       0    0.0  \n",
      "549975   40.4263            0.0  \n",
      "549975   40.4263       0    0.0  \n",
      "549976   40.4263            0.0  \n",
      "549976   40.4263            0.0  \n",
      "549977   40.4263       0    0.0  \n",
      "549978   40.4263            0.0  \n",
      "549978   40.4263       0    0.0  \n",
      "549979   40.4263            0.0  \n",
      "549979   40.4263            0.0  \n",
      "549980   40.4263       0    0.0  \n",
      "549981   40.4263            0.0  \n",
      "549981   40.4263       0    0.0  \n",
      "549982   40.4263            0.0  \n",
      "549982   40.4263            0.0  \n",
      "549983   40.4263       0    0.0  \n",
      "549984   40.4263            0.0  \n",
      "549984   40.4263       0    0.0  \n",
      "\n",
      "[420460 rows x 14 columns]\n"
     ]
    }
   ],
   "source": [
    "print(f\"unique rnti\\'s: {np.unique(rxDF_scenario['rnti'])}\")\n",
    "print(f\"\\n\\nNumber of unique rnti's: {len(np.unique(rxDF_scenario['rnti']))}\")\n",
    "\n",
    "print(\"\\n\\n RNTI 1:\")\n",
    "print(rxDF_scenario[rxDF_scenario['rnti'] == 1])"
   ]
  },
  {
   "cell_type": "code",
   "execution_count": 23,
   "metadata": {
    "collapsed": true,
    "scrolled": true
   },
   "outputs": [],
   "source": [
    "cellIdGroupedRBs = rxDF_scenario.groupby(['cellId'])\n",
    "rntiCellIdGrouped = rxDF_scenario.groupby(['cellId', 'rnti'])\n",
    "rntiGrouped = rxDF_scenario.groupby(['rnti'])\n",
    "rntiCellModeGrouped = rxDF_scenario.groupby(['mode', 'cellId', 'rnti'])"
   ]
  },
  {
   "cell_type": "code",
   "execution_count": 24,
   "metadata": {
    "collapsed": false
   },
   "outputs": [
    {
     "name": "stdout",
     "output_type": "stream",
     "text": [
      "1\n",
      "2\n",
      "2\n",
      "4\n"
     ]
    }
   ],
   "source": [
    "print(len(cellIdGroupedRBs.groups))\n",
    "print(len(rntiCellIdGrouped.groups))\n",
    "print(len(rntiGrouped.groups))\n",
    "print(len(rntiCellModeGrouped.groups))"
   ]
  },
  {
   "cell_type": "code",
   "execution_count": 44,
   "metadata": {
    "collapsed": false
   },
   "outputs": [
    {
     "data": {
      "text/plain": [
       "<matplotlib.axes._subplots.AxesSubplot at 0x7f480f662d68>"
      ]
     },
     "execution_count": 44,
     "metadata": {},
     "output_type": "execute_result"
    },
    {
     "data": {
      "image/png": "[encoded data removed]",
      "text/plain": [
       "<Figure size 1080x216 with 2 Axes>"
      ]
     },
     "metadata": {
      "needs_background": "light"
     },
     "output_type": "display_data"
    }
   ],
   "source": [
    "fig, (ax, ax2) = plt.subplots(ncols=2, sharey=True, figsize=(15,3))\n",
    "\n",
    "ax.yaxis.tick_right()\n",
    "\n",
    "rntiCellModeGrouped.get_group(('DL', 1, 1))['SINR(dB)'].plot(style='.', ax=ax)\n",
    "rntiCellModeGrouped.get_group(('UL', 1, 1))['SINR(dB)'].plot(style='.', color='darkorange', ax=ax2)"
   ]
  },
  {
   "cell_type": "code",
   "execution_count": 45,
   "metadata": {
    "collapsed": false
   },
   "outputs": [
    {
     "data": {
      "text/plain": [
       "<matplotlib.axes._subplots.AxesSubplot at 0x7f480f5ac5f8>"
      ]
     },
     "execution_count": 45,
     "metadata": {},
     "output_type": "execute_result"
    },
    {
     "data": {
      "image/png": "[encoded data removed]",
      "text/plain": [
       "<Figure size 1080x216 with 2 Axes>"
      ]
     },
     "metadata": {
      "needs_background": "light"
     },
     "output_type": "display_data"
    }
   ],
   "source": [
    "fig, (ax, ax2) = plt.subplots(ncols=2, sharey=True, figsize=(15,3))\n",
    "\n",
    "ax.yaxis.tick_right()\n",
    "\n",
    "rntiCellModeGrouped.get_group(('DL', 1, 2))['SINR(dB)'].plot(style='.', ax=ax)\n",
    "rntiCellModeGrouped.get_group(('UL', 1, 2))['SINR(dB)'].plot(style='.', color='darkorange', ax=ax2)"
   ]
  },
  {
   "cell_type": "code",
   "execution_count": 49,
   "metadata": {
    "collapsed": false
   },
   "outputs": [
    {
     "data": {
      "text/plain": [
       "<matplotlib.axes._subplots.AxesSubplot at 0x7f480f21eda0>"
      ]
     },
     "execution_count": 49,
     "metadata": {},
     "output_type": "execute_result"
    },
    {
     "data": {
      "image/png": "[encoded data removed]",
      "text/plain": [
       "<Figure size 432x288 with 2 Axes>"
      ]
     },
     "metadata": {
      "needs_background": "light"
     },
     "output_type": "display_data"
    }
   ],
   "source": [
    "rntiCellModeGrouped.get_group(('DL', 1, 1))['SINR(dB)'].plot(style='.')\n",
    "rttDF0_scenario['new_RTT'].plot(secondary_y=True, style='.')"
   ]
  },
  {
   "cell_type": "code",
   "execution_count": 30,
   "metadata": {
    "collapsed": false
   },
   "outputs": [
    {
     "data": {
      "text/plain": [
       "<matplotlib.axes._subplots.AxesSubplot at 0x7f480fe64518>"
      ]
     },
     "execution_count": 30,
     "metadata": {},
     "output_type": "execute_result"
    },
    {
     "data": {
      "image/png": "[encoded data removed]",
      "text/plain": [
       "<Figure size 432x288 with 1 Axes>"
      ]
     },
     "metadata": {
      "needs_background": "light"
     },
     "output_type": "display_data"
    }
   ],
   "source": [
    "#for grp in rntiGrouped.groups:\n",
    "rttDF0_scenario['new_RTT'].plot(style='.')"
   ]
  },
  {
   "cell_type": "code",
   "execution_count": 50,
   "metadata": {
    "collapsed": false
   },
   "outputs": [
    {
     "data": {
      "text/plain": [
       "<matplotlib.axes._subplots.AxesSubplot at 0x7f480f151978>"
      ]
     },
     "execution_count": 50,
     "metadata": {},
     "output_type": "execute_result"
    },
    {
     "data": {
      "image/png": "[encoded data removed]",
      "text/plain": [
       "<Figure size 432x288 with 2 Axes>"
      ]
     },
     "metadata": {
      "needs_background": "light"
     },
     "output_type": "display_data"
    }
   ],
   "source": [
    "#for grp in rntiGrouped.groups:\n",
    "ax = rntiCellModeGrouped.get_group(('DL', 1, 2))['SINR(dB)'].plot(style='.')\n",
    "rttDF1_scenario['new_RTT'].plot(secondary_y=True, style='.')"
   ]
  },
  {
   "cell_type": "code",
   "execution_count": 34,
   "metadata": {
    "collapsed": false
   },
   "outputs": [
    {
     "data": {
      "text/plain": [
       "<matplotlib.axes._subplots.AxesSubplot at 0x7f480fd27e48>"
      ]
     },
     "execution_count": 34,
     "metadata": {},
     "output_type": "execute_result"
    },
    {
     "data": {
      "image/png": "[encoded data removed]",
      "text/plain": [
       "<Figure size 432x288 with 1 Axes>"
      ]
     },
     "metadata": {
      "needs_background": "light"
     },
     "output_type": "display_data"
    }
   ],
   "source": [
    "#for grp in rntiGrouped.groups:\n",
    "rttDF1_scenario['new_RTT'].plot(style='.')"
   ]
  },
  {
   "cell_type": "code",
   "execution_count": 51,
   "metadata": {
    "collapsed": false
   },
   "outputs": [
    {
     "data": {
      "text/plain": [
       "<matplotlib.axes._subplots.AxesSubplot at 0x7f480f09cd68>"
      ]
     },
     "execution_count": 51,
     "metadata": {},
     "output_type": "execute_result"
    },
    {
     "data": {
      "image/png": "[encoded data removed]",
      "text/plain": [
       "<Figure size 432x288 with 2 Axes>"
      ]
     },
     "metadata": {
      "needs_background": "light"
     },
     "output_type": "display_data"
    }
   ],
   "source": [
    "ax = rntiCellModeGrouped.get_group(('DL', 1, 1))['SINR(dB)'].plot(style='.')\n",
    "cwndDF0_scenario['new_CWND'].plot(secondary_y=True, style='.')"
   ]
  },
  {
   "cell_type": "code",
   "execution_count": 42,
   "metadata": {
    "collapsed": false
   },
   "outputs": [
    {
     "data": {
      "text/plain": [
       "<matplotlib.axes._subplots.AxesSubplot at 0x7f2608297cf8>"
      ]
     },
     "execution_count": 42,
     "metadata": {},
     "output_type": "execute_result"
    },
    {
     "data": {
      "image/png": "[encoded data removed]",
      "text/plain": [
       "<Figure size 432x288 with 1 Axes>"
      ]
     },
     "metadata": {
      "needs_background": "light"
     },
     "output_type": "display_data"
    }
   ],
   "source": [
    "cwndDF0_scenario['new_CWND'].plot(style='.')"
   ]
  },
  {
   "cell_type": "code",
   "execution_count": 54,
   "metadata": {
    "collapsed": false
   },
   "outputs": [
    {
     "data": {
      "text/plain": [
       "<matplotlib.axes._subplots.AxesSubplot at 0x7f480efe7d30>"
      ]
     },
     "execution_count": 54,
     "metadata": {},
     "output_type": "execute_result"
    },
    {
     "data": {
      "image/png": "[encoded data removed]",
      "text/plain": [
       "<Figure size 432x288 with 2 Axes>"
      ]
     },
     "metadata": {
      "needs_background": "light"
     },
     "output_type": "display_data"
    }
   ],
   "source": [
    "ax = rntiCellModeGrouped.get_group(('DL', 1, 2))['SINR(dB)'].plot(style='.')\n",
    "cwndDF1_scenario['new_CWND'].plot(secondary_y=True, style='.')"
   ]
  },
  {
   "cell_type": "code",
   "execution_count": 55,
   "metadata": {
    "collapsed": false
   },
   "outputs": [
    {
     "data": {
      "text/plain": [
       "<matplotlib.axes._subplots.AxesSubplot at 0x7f480ef5c898>"
      ]
     },
     "execution_count": 55,
     "metadata": {},
     "output_type": "execute_result"
    },
    {
     "data": {
      "image/png": "[encoded data removed]",
      "text/plain": [
       "<Figure size 432x288 with 1 Axes>"
      ]
     },
     "metadata": {
      "needs_background": "light"
     },
     "output_type": "display_data"
    }
   ],
   "source": [
    "cwndDF1_scenario['new_CWND'].plot(style='.')"
   ]
  },
  {
   "cell_type": "code",
   "execution_count": 56,
   "metadata": {
    "collapsed": false
   },
   "outputs": [
    {
     "data": {
      "text/plain": [
       "<matplotlib.axes._subplots.AxesSubplot at 0x7f480ef399e8>"
      ]
     },
     "execution_count": 56,
     "metadata": {},
     "output_type": "execute_result"
    },
    {
     "data": {
      "image/png": "[encoded data removed]",
      "text/plain": [
       "<Figure size 432x288 with 1 Axes>"
      ]
     },
     "metadata": {
      "needs_background": "light"
     },
     "output_type": "display_data"
    }
   ],
   "source": [
    "dataDF0_scenario['PKG_SIZE'].plot(style='.')"
   ]
  },
  {
   "cell_type": "code",
   "execution_count": 57,
   "metadata": {
    "collapsed": false
   },
   "outputs": [
    {
     "data": {
      "text/plain": [
       "<matplotlib.axes._subplots.AxesSubplot at 0x7f480ee927f0>"
      ]
     },
     "execution_count": 57,
     "metadata": {},
     "output_type": "execute_result"
    },
    {
     "data": {
      "image/png": "[encoded data removed]",
      "text/plain": [
       "<Figure size 432x288 with 1 Axes>"
      ]
     },
     "metadata": {
      "needs_background": "light"
     },
     "output_type": "display_data"
    }
   ],
   "source": [
    "dataDF1_scenario['PKG_SIZE'].plot(style='.')"
   ]
  },
  {
   "cell_type": "code",
   "execution_count": 58,
   "metadata": {
    "collapsed": false
   },
   "outputs": [
    {
     "data": {
      "text/plain": [
       "<matplotlib.axes._subplots.AxesSubplot at 0x7f480ee638d0>"
      ]
     },
     "execution_count": 58,
     "metadata": {},
     "output_type": "execute_result"
    },
    {
     "data": {
      "image/png": "[encoded data removed]",
      "text/plain": [
       "<Figure size 432x288 with 1 Axes>"
      ]
     },
     "metadata": {
      "needs_background": "light"
     },
     "output_type": "display_data"
    }
   ],
   "source": [
    "ax = rntiCellModeGrouped.get_group(('DL', 1, 2))['SINR(dB)'].plot(style='.')\n",
    "(rttDF1_scenario['new_RTT']*1000).plot(style='.')\n",
    "(cwndDF1_scenario['new_CWND']/5000000).plot(style='.')\n",
    "(dataDF1_scenario['PKG_SIZE']/50).plot(style='.')\n"
   ]
  },
  {
   "cell_type": "code",
   "execution_count": 59,
   "metadata": {
    "collapsed": false
   },
   "outputs": [
    {
     "data": {
      "text/plain": [
       "<matplotlib.axes._subplots.AxesSubplot at 0x7f480edf6a20>"
      ]
     },
     "execution_count": 59,
     "metadata": {},
     "output_type": "execute_result"
    },
    {
     "data": {
      "image/png": "[encoded data removed]",
      "text/plain": [
       "<Figure size 432x288 with 2 Axes>"
      ]
     },
     "metadata": {
      "needs_background": "light"
     },
     "output_type": "display_data"
    }
   ],
   "source": [
    "ax = rntiCellModeGrouped.get_group(('DL', 1, 2))['SINR(dB)'].plot(style='.')\n",
    "rttDF1_scenario['new_RTT'].plot(secondary_y=True, style='.')\n",
    "cwndDF1_scenario['new_CWND'].plot(secondary_y=True, style='.')\n",
    "dataDF1_scenario['PKG_SIZE'].plot(secondary_y=True, style='.')\n"
   ]
  },
  {
   "cell_type": "code",
   "execution_count": 94,
   "metadata": {
    "collapsed": false
   },
   "outputs": [
    {
     "data": {
      "text/plain": [
       "1400"
      ]
     },
     "execution_count": 94,
     "metadata": {},
     "output_type": "execute_result"
    }
   ],
   "source": [
    "np.min(cwndDF1_scenario['new_CWND'])"
   ]
  }
 ],
 "metadata": {
  "kernelspec": {
   "display_name": "Python 3",
   "language": "python",
   "name": "python3"
  },
  "language_info": {
   "codemirror_mode": {
    "name": "ipython",
    "version": 3
   },
   "file_extension": ".py",
   "mimetype": "text/x-python",
   "name": "python",
   "nbconvert_exporter": "python",
   "pygments_lexer": "ipython3",
   "version": "3.6.6"
  }
 },
 "nbformat": 4,
 "nbformat_minor": 2
}
