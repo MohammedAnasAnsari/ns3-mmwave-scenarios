{
 "cells": [
  {
   "cell_type": "code",
   "execution_count": null,
   "metadata": {
    "collapsed": true
   },
   "outputs": [],
   "source": [
    "scenario_folder = 'scenario5/'"
   ]
  },
  {
   "cell_type": "code",
   "execution_count": 1,
   "metadata": {
    "collapsed": true
   },
   "outputs": [],
   "source": [
    "%matplotlib inline"
   ]
  },
  {
   "cell_type": "code",
   "execution_count": 2,
   "metadata": {
    "collapsed": true
   },
   "outputs": [],
   "source": [
    "import os\n",
    "import csv\n",
    "import pandas as pd\n",
    "import numpy as np\n",
    "import matplotlib.pylab as plt"
   ]
  },
  {
   "cell_type": "code",
   "execution_count": 3,
   "metadata": {
    "collapsed": true
   },
   "outputs": [],
   "source": [
    "from sklearn.preprocessing import LabelEncoder"
   ]
  },
  {
   "cell_type": "code",
   "execution_count": 4,
   "metadata": {
    "collapsed": true
   },
   "outputs": [],
   "source": [
    "def getRxPacketFile(eNBArray, UEArray, basefolder = ''):\n",
    "    \"\"\" Gets the RxPacketTrace file with\n",
    "    len(eNBArray) eNBs (radio base station) containers and with\n",
    "    len(UEArray) UE (user equipment) containers.\n",
    "    The filename will be for example:\n",
    "    'RxPacketTrace_e1_e2_e3_u1_u2.txt'\n",
    "    where e1, e2 and e3 are three eNB containers (representing\n",
    "    a number of antenas for container), u1 and u2 will be\n",
    "    user equipment containers, (representing for example 2 rooms\n",
    "    each with u1 and u2 user equipments respectively).\"\"\"\n",
    "    eNBString = ''\n",
    "    UEString = ''\n",
    "    if (len(eNBArray) > 0) and (len(UEArray) > 0):\n",
    "        for numENB in eNBArray:\n",
    "            eNBString = eNBString + '_' + str(numENB)\n",
    "        for numUE in UEArray:\n",
    "            UEString = UEString + '_' + str(numUE)\n",
    "    \n",
    "    \n",
    "    filename = basefolder + 'RxPacketTrace' + eNBString + UEString + '.txt'\n",
    "    if os.path.isfile(filename):\n",
    "#        rxpacketfile = open(filename, \"r\")\n",
    "#        return csv.DictReader(rxpacketfile, delimiter='\\t')\n",
    "        with open(filename, \"r\") as rxpacketfile:\n",
    "            return pd.read_csv(rxpacketfile, sep='\\t', \\\n",
    "                               names=['mode', 'time', 'frame', 'subF', '1stSym', \\\n",
    "                                   'symbol#', 'cellId', 'rnti', 'ccId', 'tbSize', 'mcs', 'rv', \\\n",
    "                                   'SINR(dB)', 'corrupt', 'TBler'], \\\n",
    "                               dtype={'mode': str}, \\\n",
    "                               index_col=1,\n",
    "                               low_memory=False,\n",
    "                               #skiprows=0,\n",
    "                               #header=0,\n",
    "                               verbose=True,\n",
    "                               \n",
    "                              )\n",
    "    else:\n",
    "        return None\n",
    "    \n",
    "\n",
    "        "
   ]
  },
  {
   "cell_type": "code",
   "execution_count": 5,
   "metadata": {
    "collapsed": true
   },
   "outputs": [],
   "source": [
    "def getTcpWindowFile(basefolder = ''):\n",
    "    \"\"\" Gets the mmWave-tcp-window-newreno.txt.\n",
    "    This file contains the following structure:\n",
    "    TIMESTAMP \\t OLD_CWND \\t NEW_CWND\n",
    "    \n",
    "    where CWND is the tcp congestion window size.\n",
    "    \n",
    "    The file doesn't contain a header and is tab separeted\n",
    "    \n",
    "    \"\"\"\n",
    "    filename = basefolder + 'mmWave-tcp-window-newreno.txt'\n",
    "    if os.path.isfile(filename):\n",
    "#        rxpacketfile = open(filename, \"r\")\n",
    "#        return csv.DictReader(rxpacketfile, delimiter='\\t')\n",
    "        with open(filename, \"r\") as file:\n",
    "            return pd.read_csv(file, sep='\\t', \\\n",
    "                               names=['time', 'old_CWND', 'new_CWND'],\n",
    "                               index_col=0,\n",
    "                               low_memory=False,\n",
    "                               #skiprows=0,\n",
    "                               #header=0,\n",
    "                               verbose=True,\n",
    "                              )\n",
    "    else:\n",
    "        return None\n",
    "    \n",
    "\n",
    "        "
   ]
  },
  {
   "cell_type": "code",
   "execution_count": 6,
   "metadata": {
    "collapsed": true
   },
   "outputs": [],
   "source": [
    "def getTcpRTTFile(basefolder = ''):\n",
    "    \"\"\" Gets the mmWave-tcp-rtt-newreno.txt.\n",
    "    This file contains the following structure:\n",
    "    TIMESTAMP \\t OLD_RTT \\t NEW_RTT\n",
    "    \n",
    "    where RTT is the round-time-trip.\n",
    "    \n",
    "    The file doesn't contain a header and is tab separeted\n",
    "    \n",
    "    \"\"\"\n",
    "    filename = basefolder + 'mmWave-tcp-rtt-newreno.txt'\n",
    "    if os.path.isfile(filename):\n",
    "        with open(filename, \"r\") as file:\n",
    "            return pd.read_csv(file, sep='\\t', \\\n",
    "                               names=['time', 'old_RTT', 'new_RTT'],\n",
    "                               index_col=0,\n",
    "                               low_memory=False,\n",
    "                               #skiprows=0,\n",
    "                               #header=0,\n",
    "                               verbose=True,\n",
    "                              )\n",
    "    else:\n",
    "        return None\n",
    "    \n",
    "\n",
    "        "
   ]
  },
  {
   "cell_type": "code",
   "execution_count": 7,
   "metadata": {
    "collapsed": true
   },
   "outputs": [],
   "source": [
    "def getTcpDataFile(basefolder = ''):\n",
    "    \"\"\" Gets the mmWave-tcp-rtt-newreno.txt.\n",
    "    This file contains the following structure:\n",
    "    TIMESTAMP \\t PKG_SIZE\n",
    "    \n",
    "    where PKG_SIZE is the size of the received package\n",
    "    \n",
    "    The file doesn't contain a header and is tab separeted.\n",
    "    \n",
    "    \"\"\"\n",
    "    filename = basefolder + 'mmWave-tcp-data-newreno.txt'\n",
    "    if os.path.isfile(filename):\n",
    "        with open(filename, \"r\") as file:\n",
    "            return pd.read_csv(file, sep='\\t', \\\n",
    "                               names=['time', 'PKG_SIZE'],\n",
    "                               index_col=0,\n",
    "                               low_memory=False,\n",
    "                               #skiprows=0,\n",
    "                               #header=0,\n",
    "                               verbose=True,\n",
    "                              )\n",
    "    else:\n",
    "        return None\n",
    "    \n",
    "\n",
    "        "
   ]
  },
  {
   "cell_type": "code",
   "execution_count": 8,
   "metadata": {
    "collapsed": false,
    "scrolled": true
   },
   "outputs": [
    {
     "data": {
      "text/plain": [
       "['paulista_back_tcp',\n",
       " 'paulista_far',\n",
       " 'test_5sec_3_5_5_5_triangle_shadowing_unset',\n",
       " 'Scenario1.ipynb',\n",
       " 'paulista',\n",
       " 'Scenario9.ipynb',\n",
       " '.ipynb_checkpoints',\n",
       " 'Scenario8.ipynb',\n",
       " 'paulista_tcp',\n",
       " 'paulista_back2',\n",
       " 'small_grid_test',\n",
       " 'paulista_double',\n",
       " 'test_10sec_5_40_shadow_off',\n",
       " 'paulista_leoncio',\n",
       " 'mmWaveTests.ipynb',\n",
       " 'mmWaveTests-Paulista_double.ipynb',\n",
       " 'test_10sec_2_40_antipodal_shadow_off',\n",
       " 'test_5sec_3_5_10_15_triangle_2km_mix_positions_shadowing_off',\n",
       " 'test_5sec_3_5_5_5_triangle_shadowing_true',\n",
       " 'mmWaveTests-Copy1.ipynb',\n",
       " 'test_10sec_1_40_shadow_off',\n",
       " 'tcp-building',\n",
       " 'Scenario7.ipynb',\n",
       " 'buildings',\n",
       " 'paulista_back',\n",
       " 'test_5sec_3_5_10_15',\n",
       " 'paulista_back_4ms',\n",
       " 'Scenario4.ipynb',\n",
       " 'test_5sec_3_5_10_15_triangle_2km_shadowing_off',\n",
       " 'paulista_top',\n",
       " 'test_5sec_1_40_noshadow',\n",
       " 'paulista_top2',\n",
       " 'test_5sec_3_5_10_15_not_shadow',\n",
       " 'paulista_4ms',\n",
       " 'nohup.out',\n",
       " 'test_10sec_5_10_15_shadow_off',\n",
       " 'Scenario3.ipynb',\n",
       " 'Scenario2.ipynb']"
      ]
     },
     "execution_count": 8,
     "metadata": {},
     "output_type": "execute_result"
    }
   ],
   "source": [
    "os.listdir()"
   ]
  },
  {
   "cell_type": "code",
   "execution_count": 14,
   "metadata": {
    "collapsed": false
   },
   "outputs": [
    {
     "name": "stdout",
     "output_type": "stream",
     "text": [
      "Tokenization took: 195.62 ms\n",
      "Type conversion took: 383.94 ms\n",
      "Parser memory cleanup took: 6.74 ms\n",
      "Tokenization took: 231.50 ms\n",
      "Type conversion took: 135.60 ms\n",
      "Parser memory cleanup took: 4.81 ms\n"
     ]
    },
    {
     "name": "stderr",
     "output_type": "stream",
     "text": [
      "/home/arturao/miniconda3/envs/tf36/lib/python3.6/site-packages/numpy/lib/arraysetops.py:569: FutureWarning: elementwise comparison failed; returning scalar instead, but in the future will perform elementwise comparison\n",
      "  mask |= (ar1 == a)\n"
     ]
    },
    {
     "name": "stdout",
     "output_type": "stream",
     "text": [
      "Tokenization took: 240.14 ms\n",
      "Type conversion took: 176.79 ms\n",
      "Parser memory cleanup took: 4.66 ms\n",
      "Tokenization took: 268.56 ms\n",
      "Type conversion took: 142.09 ms\n",
      "Parser memory cleanup took: 7.72 ms\n"
     ]
    }
   ],
   "source": [
    "eNBs = []\n",
    "UEs = []\n",
    "rxDF_scenario = getRxPacketFile(eNBs,UEs, scenario_folder)\n",
    "cwndDF_scenario = getTcpWindowFile(scenario_folder)\n",
    "rttDF_scenario = getTcpRTTFile(scenario_folder)\n",
    "dataDF_scenario = getTcpDataFile(scenario_folder)"
   ]
  },
  {
   "cell_type": "code",
   "execution_count": 15,
   "metadata": {
    "collapsed": false
   },
   "outputs": [
    {
     "name": "stdout",
     "output_type": "stream",
     "text": [
      "RxPacket file loaded as dataframe (eNBs: []), (UEs: [])\n"
     ]
    }
   ],
   "source": [
    "if rxDF_scenario is None:\n",
    "    print('RxPacket file not found!')\n",
    "else:\n",
    "    rxDF_scenario = rxDF_scenario[1:].copy() #First line (headers) is skipped\n",
    "    print(f'RxPacket file loaded as dataframe (eNBs: {eNBs}), (UEs: {UEs})')\n",
    "    rxDF_scenario.index = rxDF_scenario.index.astype('float')\n",
    "    rxDF_scenario['SINR(dB)']   = pd.DataFrame(rxDF_scenario['SINR(dB)'], dtype='float')\n",
    "    rxDF_scenario['rnti']       = pd.DataFrame(rxDF_scenario['rnti'], dtype='int')\n",
    "    rxDF_scenario['cellId']     = pd.DataFrame(rxDF_scenario['cellId'], dtype='int')\n",
    "    rxDF_scenario['TBler']      = pd.DataFrame(rxDF_scenario['TBler'], dtype='float')"
   ]
  },
  {
   "cell_type": "code",
   "execution_count": 16,
   "metadata": {
    "collapsed": false
   },
   "outputs": [
    {
     "data": {
      "text/html": [
       "<div>\n",
       "<style scoped>\n",
       "    .dataframe tbody tr th:only-of-type {\n",
       "        vertical-align: middle;\n",
       "    }\n",
       "\n",
       "    .dataframe tbody tr th {\n",
       "        vertical-align: top;\n",
       "    }\n",
       "\n",
       "    .dataframe thead th {\n",
       "        text-align: right;\n",
       "    }\n",
       "</style>\n",
       "<table border=\"1\" class=\"dataframe\">\n",
       "  <thead>\n",
       "    <tr style=\"text-align: right;\">\n",
       "      <th></th>\n",
       "      <th>mode</th>\n",
       "      <th>frame</th>\n",
       "      <th>subF</th>\n",
       "      <th>1stSym</th>\n",
       "      <th>symbol#</th>\n",
       "      <th>cellId</th>\n",
       "      <th>rnti</th>\n",
       "      <th>ccId</th>\n",
       "      <th>tbSize</th>\n",
       "      <th>mcs</th>\n",
       "      <th>rv</th>\n",
       "      <th>SINR(dB)</th>\n",
       "      <th>corrupt</th>\n",
       "      <th>TBler</th>\n",
       "    </tr>\n",
       "    <tr>\n",
       "      <th>time</th>\n",
       "      <th></th>\n",
       "      <th></th>\n",
       "      <th></th>\n",
       "      <th></th>\n",
       "      <th></th>\n",
       "      <th></th>\n",
       "      <th></th>\n",
       "      <th></th>\n",
       "      <th></th>\n",
       "      <th></th>\n",
       "      <th></th>\n",
       "      <th></th>\n",
       "      <th></th>\n",
       "      <th></th>\n",
       "    </tr>\n",
       "  </thead>\n",
       "  <tbody>\n",
       "    <tr>\n",
       "      <th>24.9998</th>\n",
       "      <td>UL</td>\n",
       "      <td>24999</td>\n",
       "      <td>7</td>\n",
       "      <td>16</td>\n",
       "      <td>1</td>\n",
       "      <td>1</td>\n",
       "      <td>1</td>\n",
       "      <td>0</td>\n",
       "      <td>1776</td>\n",
       "      <td>28</td>\n",
       "      <td>0</td>\n",
       "      <td>39.382</td>\n",
       "      <td>0</td>\n",
       "      <td>0.0</td>\n",
       "    </tr>\n",
       "    <tr>\n",
       "      <th>24.9998</th>\n",
       "      <td>DL</td>\n",
       "      <td>24999</td>\n",
       "      <td>8</td>\n",
       "      <td>1</td>\n",
       "      <td>8</td>\n",
       "      <td>1</td>\n",
       "      <td>1</td>\n",
       "      <td>0</td>\n",
       "      <td>14247</td>\n",
       "      <td>28</td>\n",
       "      <td>0</td>\n",
       "      <td>39.382</td>\n",
       "      <td></td>\n",
       "      <td>0.0</td>\n",
       "    </tr>\n",
       "    <tr>\n",
       "      <th>24.9998</th>\n",
       "      <td>UL</td>\n",
       "      <td>24999</td>\n",
       "      <td>8</td>\n",
       "      <td>9</td>\n",
       "      <td>1</td>\n",
       "      <td>1</td>\n",
       "      <td>1</td>\n",
       "      <td>0</td>\n",
       "      <td>1776</td>\n",
       "      <td>28</td>\n",
       "      <td>0</td>\n",
       "      <td>39.382</td>\n",
       "      <td>0</td>\n",
       "      <td>0.0</td>\n",
       "    </tr>\n",
       "    <tr>\n",
       "      <th>24.9999</th>\n",
       "      <td>DL</td>\n",
       "      <td>24999</td>\n",
       "      <td>9</td>\n",
       "      <td>1</td>\n",
       "      <td>8</td>\n",
       "      <td>1</td>\n",
       "      <td>1</td>\n",
       "      <td>0</td>\n",
       "      <td>14247</td>\n",
       "      <td>28</td>\n",
       "      <td>0</td>\n",
       "      <td>39.382</td>\n",
       "      <td></td>\n",
       "      <td>0.0</td>\n",
       "    </tr>\n",
       "    <tr>\n",
       "      <th>24.9999</th>\n",
       "      <td>UL</td>\n",
       "      <td>24999</td>\n",
       "      <td>9</td>\n",
       "      <td>9</td>\n",
       "      <td>1</td>\n",
       "      <td>1</td>\n",
       "      <td>1</td>\n",
       "      <td>0</td>\n",
       "      <td>1776</td>\n",
       "      <td>28</td>\n",
       "      <td>0</td>\n",
       "      <td>39.382</td>\n",
       "      <td>0</td>\n",
       "      <td>0.0</td>\n",
       "    </tr>\n",
       "  </tbody>\n",
       "</table>\n",
       "</div>"
      ],
      "text/plain": [
       "        mode  frame subF 1stSym symbol#  cellId  rnti ccId tbSize mcs rv  \\\n",
       "time                                                                       \n",
       "24.9998   UL  24999    7     16       1       1     1    0   1776  28  0   \n",
       "24.9998   DL  24999    8      1       8       1     1    0  14247  28  0   \n",
       "24.9998   UL  24999    8      9       1       1     1    0   1776  28  0   \n",
       "24.9999   DL  24999    9      1       8       1     1    0  14247  28  0   \n",
       "24.9999   UL  24999    9      9       1       1     1    0   1776  28  0   \n",
       "\n",
       "         SINR(dB) corrupt  TBler  \n",
       "time                              \n",
       "24.9998    39.382       0    0.0  \n",
       "24.9998    39.382            0.0  \n",
       "24.9998    39.382       0    0.0  \n",
       "24.9999    39.382            0.0  \n",
       "24.9999    39.382       0    0.0  "
      ]
     },
     "execution_count": 16,
     "metadata": {},
     "output_type": "execute_result"
    }
   ],
   "source": [
    "rxDF_scenario.tail()"
   ]
  },
  {
   "cell_type": "code",
   "execution_count": 17,
   "metadata": {
    "collapsed": false
   },
   "outputs": [
    {
     "data": {
      "text/plain": [
       "Float64Index([0.00310832, 0.00360832, 0.00400832,  0.0331125,  0.0336083,\n",
       "               0.0340083,   0.111312,   0.111812,   0.112208,   0.134296,\n",
       "              ...\n",
       "                 24.9995,    24.9995,    24.9996,    24.9996,    24.9998,\n",
       "                 24.9998,    24.9998,    24.9998,    24.9999,    24.9999],\n",
       "             dtype='float64', name='time', length=398197)"
      ]
     },
     "execution_count": 17,
     "metadata": {},
     "output_type": "execute_result"
    }
   ],
   "source": [
    "rxDF_scenario.index"
   ]
  },
  {
   "cell_type": "code",
   "execution_count": 19,
   "metadata": {
    "collapsed": false
   },
   "outputs": [
    {
     "data": {
      "text/html": [
       "<div>\n",
       "<style scoped>\n",
       "    .dataframe tbody tr th:only-of-type {\n",
       "        vertical-align: middle;\n",
       "    }\n",
       "\n",
       "    .dataframe tbody tr th {\n",
       "        vertical-align: top;\n",
       "    }\n",
       "\n",
       "    .dataframe thead th {\n",
       "        text-align: right;\n",
       "    }\n",
       "</style>\n",
       "<table border=\"1\" class=\"dataframe\">\n",
       "  <thead>\n",
       "    <tr style=\"text-align: right;\">\n",
       "      <th></th>\n",
       "      <th>old_CWND</th>\n",
       "      <th>new_CWND</th>\n",
       "    </tr>\n",
       "    <tr>\n",
       "      <th>time</th>\n",
       "      <th></th>\n",
       "      <th></th>\n",
       "    </tr>\n",
       "  </thead>\n",
       "  <tbody>\n",
       "    <tr>\n",
       "      <th>0.122913</th>\n",
       "      <td>0</td>\n",
       "      <td>1400</td>\n",
       "    </tr>\n",
       "    <tr>\n",
       "      <th>0.145913</th>\n",
       "      <td>1400</td>\n",
       "      <td>2800</td>\n",
       "    </tr>\n",
       "    <tr>\n",
       "      <th>0.168908</th>\n",
       "      <td>2800</td>\n",
       "      <td>4200</td>\n",
       "    </tr>\n",
       "    <tr>\n",
       "      <th>0.191908</th>\n",
       "      <td>4200</td>\n",
       "      <td>5600</td>\n",
       "    </tr>\n",
       "    <tr>\n",
       "      <th>0.214913</th>\n",
       "      <td>5600</td>\n",
       "      <td>7000</td>\n",
       "    </tr>\n",
       "  </tbody>\n",
       "</table>\n",
       "</div>"
      ],
      "text/plain": [
       "          old_CWND  new_CWND\n",
       "time                        \n",
       "0.122913         0      1400\n",
       "0.145913      1400      2800\n",
       "0.168908      2800      4200\n",
       "0.191908      4200      5600\n",
       "0.214913      5600      7000"
      ]
     },
     "execution_count": 19,
     "metadata": {},
     "output_type": "execute_result"
    }
   ],
   "source": [
    "cwndDF_scenario.head()"
   ]
  },
  {
   "cell_type": "code",
   "execution_count": 20,
   "metadata": {
    "collapsed": false
   },
   "outputs": [
    {
     "data": {
      "text/html": [
       "<div>\n",
       "<style scoped>\n",
       "    .dataframe tbody tr th:only-of-type {\n",
       "        vertical-align: middle;\n",
       "    }\n",
       "\n",
       "    .dataframe tbody tr th {\n",
       "        vertical-align: top;\n",
       "    }\n",
       "\n",
       "    .dataframe thead th {\n",
       "        text-align: right;\n",
       "    }\n",
       "</style>\n",
       "<table border=\"1\" class=\"dataframe\">\n",
       "  <thead>\n",
       "    <tr style=\"text-align: right;\">\n",
       "      <th></th>\n",
       "      <th>old_RTT</th>\n",
       "      <th>new_RTT</th>\n",
       "    </tr>\n",
       "    <tr>\n",
       "      <th>time</th>\n",
       "      <th></th>\n",
       "      <th></th>\n",
       "    </tr>\n",
       "  </thead>\n",
       "  <tbody>\n",
       "    <tr>\n",
       "      <th>0.122913</th>\n",
       "      <td>0.000000</td>\n",
       "      <td>0.022000</td>\n",
       "    </tr>\n",
       "    <tr>\n",
       "      <th>0.145913</th>\n",
       "      <td>0.022000</td>\n",
       "      <td>0.022125</td>\n",
       "    </tr>\n",
       "    <tr>\n",
       "      <th>0.168908</th>\n",
       "      <td>0.022125</td>\n",
       "      <td>0.022234</td>\n",
       "    </tr>\n",
       "    <tr>\n",
       "      <th>0.191908</th>\n",
       "      <td>0.022234</td>\n",
       "      <td>0.022330</td>\n",
       "    </tr>\n",
       "    <tr>\n",
       "      <th>0.214913</th>\n",
       "      <td>0.022330</td>\n",
       "      <td>0.025289</td>\n",
       "    </tr>\n",
       "  </tbody>\n",
       "</table>\n",
       "</div>"
      ],
      "text/plain": [
       "           old_RTT   new_RTT\n",
       "time                        \n",
       "0.122913  0.000000  0.022000\n",
       "0.145913  0.022000  0.022125\n",
       "0.168908  0.022125  0.022234\n",
       "0.191908  0.022234  0.022330\n",
       "0.214913  0.022330  0.025289"
      ]
     },
     "execution_count": 20,
     "metadata": {},
     "output_type": "execute_result"
    }
   ],
   "source": [
    "rttDF_scenario.head()"
   ]
  },
  {
   "cell_type": "code",
   "execution_count": 21,
   "metadata": {
    "collapsed": false
   },
   "outputs": [
    {
     "data": {
      "text/html": [
       "<div>\n",
       "<style scoped>\n",
       "    .dataframe tbody tr th:only-of-type {\n",
       "        vertical-align: middle;\n",
       "    }\n",
       "\n",
       "    .dataframe tbody tr th {\n",
       "        vertical-align: top;\n",
       "    }\n",
       "\n",
       "    .dataframe thead th {\n",
       "        text-align: right;\n",
       "    }\n",
       "</style>\n",
       "<table border=\"1\" class=\"dataframe\">\n",
       "  <thead>\n",
       "    <tr style=\"text-align: right;\">\n",
       "      <th></th>\n",
       "      <th>PKG_SIZE</th>\n",
       "    </tr>\n",
       "    <tr>\n",
       "      <th>time</th>\n",
       "      <th></th>\n",
       "    </tr>\n",
       "  </thead>\n",
       "  <tbody>\n",
       "    <tr>\n",
       "      <th>0.134437</th>\n",
       "      <td>1400</td>\n",
       "    </tr>\n",
       "    <tr>\n",
       "      <th>0.157496</th>\n",
       "      <td>1400</td>\n",
       "    </tr>\n",
       "    <tr>\n",
       "      <th>0.157562</th>\n",
       "      <td>1400</td>\n",
       "    </tr>\n",
       "    <tr>\n",
       "      <th>0.180496</th>\n",
       "      <td>1400</td>\n",
       "    </tr>\n",
       "    <tr>\n",
       "      <th>0.180596</th>\n",
       "      <td>1400</td>\n",
       "    </tr>\n",
       "  </tbody>\n",
       "</table>\n",
       "</div>"
      ],
      "text/plain": [
       "          PKG_SIZE\n",
       "time              \n",
       "0.134437      1400\n",
       "0.157496      1400\n",
       "0.157562      1400\n",
       "0.180496      1400\n",
       "0.180596      1400"
      ]
     },
     "execution_count": 21,
     "metadata": {},
     "output_type": "execute_result"
    }
   ],
   "source": [
    "dataDF_scenario.head()"
   ]
  },
  {
   "cell_type": "code",
   "execution_count": 22,
   "metadata": {
    "collapsed": false
   },
   "outputs": [
    {
     "name": "stdout",
     "output_type": "stream",
     "text": [
      "[3.10832e-03 3.60832e-03 4.00832e-03 ... 2.49996e+01 2.49998e+01\n",
      " 2.49999e+01]\n"
     ]
    }
   ],
   "source": [
    "mergedIndexes = np.concatenate((rxDF_scenario.index,cwndDF_scenario.index, rttDF_scenario.index, dataDF_scenario.index))\n",
    "mergedIndexes.sort(kind='merge')\n",
    "mergedIndexes = np.unique(mergedIndexes)\n",
    "print(mergedIndexes)"
   ]
  },
  {
   "cell_type": "code",
   "execution_count": 23,
   "metadata": {
    "collapsed": true
   },
   "outputs": [],
   "source": [
    "from collections import defaultdict\n",
    "d = defaultdict(LabelEncoder)"
   ]
  },
  {
   "cell_type": "code",
   "execution_count": 24,
   "metadata": {
    "collapsed": true
   },
   "outputs": [],
   "source": [
    "integerIndexes = d['time'].fit_transform(mergedIndexes)"
   ]
  },
  {
   "cell_type": "code",
   "execution_count": 25,
   "metadata": {
    "collapsed": false
   },
   "outputs": [
    {
     "data": {
      "text/plain": [
       "array([     0,      1,      2, ..., 297330, 297331, 297332])"
      ]
     },
     "execution_count": 25,
     "metadata": {},
     "output_type": "execute_result"
    }
   ],
   "source": [
    "integerIndexes"
   ]
  },
  {
   "cell_type": "code",
   "execution_count": 26,
   "metadata": {
    "collapsed": true
   },
   "outputs": [],
   "source": [
    "rxDF_scenario = rxDF_scenario.set_index(d['time'].transform(rxDF_scenario.index));\n",
    "cwndDF_scenario = cwndDF_scenario.set_index(d['time'].transform(cwndDF_scenario.index));\n",
    "rttDF_scenario = rttDF_scenario.set_index(d['time'].transform(rttDF_scenario.index));\n",
    "dataDF_scenario = dataDF_scenario.set_index(d['time'].transform(dataDF_scenario.index));"
   ]
  },
  {
   "cell_type": "code",
   "execution_count": 27,
   "metadata": {
    "collapsed": false
   },
   "outputs": [
    {
     "data": {
      "text/plain": [
       "array([1])"
      ]
     },
     "execution_count": 27,
     "metadata": {},
     "output_type": "execute_result"
    }
   ],
   "source": [
    "np.unique(rxDF_scenario['cellId'])"
   ]
  },
  {
   "cell_type": "code",
   "execution_count": 28,
   "metadata": {
    "collapsed": false,
    "scrolled": true
   },
   "outputs": [
    {
     "name": "stdout",
     "output_type": "stream",
     "text": [
      "unique rnti's: [1]\n",
      "\n",
      "\n",
      "Number of unique rnti's: 1\n",
      "\n",
      "\n",
      " RNTI 1:\n",
      "       mode  frame subF 1stSym symbol#  cellId  rnti ccId tbSize mcs rv  \\\n",
      "0        DL      3    1      1       1       1     1    0     48   0  0   \n",
      "1        UL      3    6      1       1       1     1    0     48   0  0   \n",
      "2        DL      4    0      1       1       1     1    0   1776  28  0   \n",
      "3        DL     33    1      1       2       1     1    0    100   0  0   \n",
      "4        UL     33    6      1       1       1     1    0     48   0  0   \n",
      "5        DL     34    0      1       1       1     1    0   1776  28  0   \n",
      "6        DL    111    3      1       2       1     1    0    100   0  0   \n",
      "7        UL    111    8      1       2       1     1    0    100   0  0   \n",
      "8        DL    112    2      1       1       1     1    0   1776  28  0   \n",
      "10       DL    134    2      1      22       1     1    0   1131   0  0   \n",
      "11       DL    134    3      1       8       1     1    0    411   0  0   \n",
      "13       UL    134    7      1       1       1     1    0     48   0  0   \n",
      "14       UL    134    8      1       2       1     1    0    100   0  0   \n",
      "15       DL    135    1      1       1       1     1    0   1776  28  0   \n",
      "16       UL    139    1      1       1       1     1    0   1776  28  0   \n",
      "17       DL    139    5      1       1       1     1    0   1776  28  0   \n",
      "19       DL    157    2      1      22       1     1    0   1131   0  0   \n",
      "20       DL    157    3      1      22       1     1    0   1131   0  0   \n",
      "21       DL    157    4      1      14       1     1    0    722   0  0   \n",
      "24       UL    157    7      1       1       1     1    0     48   0  0   \n",
      "25       UL    157    8      1       1       1     1    0     48   0  0   \n",
      "26       UL    157    9      1       2       1     1    0    100   0  0   \n",
      "27       DL    158    1      1       1       1     1    0   1776  28  0   \n",
      "28       UL    162    1      1       1       1     1    0   1776  28  0   \n",
      "29       DL    162    5      1       1       1     1    0   1776  28  0   \n",
      "31       DL    180    2      1      22       1     1    0   1131   0  0   \n",
      "32       DL    180    3      1      22       1     1    0   1131   0  0   \n",
      "33       DL    180    4      1      22       1     1    0   1131   0  0   \n",
      "34       DL    180    5      1       1       1     1    0   1776  28  0   \n",
      "37       UL    180    7      1       1       1     1    0     48   0  0   \n",
      "...     ...    ...  ...    ...     ...     ...   ...  ...    ...  .. ..   \n",
      "297316   DL  24998    3      1       8       1     1    0  14247  28  0   \n",
      "297316   UL  24998    3      9       1       1     1    0   1776  28  0   \n",
      "297317   DL  24998    4      1       8       1     1    0  14247  28  0   \n",
      "297318   DL  24998    5      1       8       1     1    0  14247  28  0   \n",
      "297318   UL  24998    5      9       1       1     1    0   1776  28  0   \n",
      "297319   DL  24998    6      1       8       1     1    0  14247  28  0   \n",
      "297319   UL  24998    6      9       1       1     1    0   1776  28  0   \n",
      "297321   DL  24998    7      1      15       1     1    0  26719  28  0   \n",
      "297321   DL  24998    8      1       8       1     1    0  14247  28  0   \n",
      "297321   UL  24998    8      9       1       1     1    0   1776  28  0   \n",
      "297322   DL  24998    9      1       7       1     1    0  12465  28  0   \n",
      "297322   UL  24998    9      8       1       1     1    0   1776  28  0   \n",
      "297323   DL  24999    0      1       8       1     1    0  14247  28  0   \n",
      "297325   DL  24999    1      1       8       1     1    0  14247  28  0   \n",
      "297326   DL  24999    2      1       8       1     1    0  14247  28  0   \n",
      "297326   UL  24999    2      9       1       1     1    0   1776  28  0   \n",
      "297327   DL  24999    3      1       8       1     1    0  14247  28  0   \n",
      "297327   UL  24999    3      9       1       1     1    0   1776  28  0   \n",
      "297328   DL  24999    4      1       8       1     1    0  14247  28  0   \n",
      "297328   UL  24999    4      9       1       1     1    0   1776  28  0   \n",
      "297329   DL  24999    5      1       8       1     1    0  14247  28  0   \n",
      "297329   UL  24999    5      9       1       1     1    0   1776  28  0   \n",
      "297330   DL  24999    6      1       8       1     1    0  14247  28  0   \n",
      "297330   UL  24999    6      9       1       1     1    0   1776  28  0   \n",
      "297331   DL  24999    7      1      15       1     1    0  26719  28  0   \n",
      "297331   UL  24999    7     16       1       1     1    0   1776  28  0   \n",
      "297331   DL  24999    8      1       8       1     1    0  14247  28  0   \n",
      "297331   UL  24999    8      9       1       1     1    0   1776  28  0   \n",
      "297332   DL  24999    9      1       8       1     1    0  14247  28  0   \n",
      "297332   UL  24999    9      9       1       1     1    0   1776  28  0   \n",
      "\n",
      "        SINR(dB) corrupt         TBler  \n",
      "0        34.8290          0.000000e+00  \n",
      "1        34.8290       0  0.000000e+00  \n",
      "2        34.8290          0.000000e+00  \n",
      "3        34.8290          0.000000e+00  \n",
      "4        34.8290       0  0.000000e+00  \n",
      "5        34.8290          0.000000e+00  \n",
      "6        31.6493          0.000000e+00  \n",
      "7        31.6493       0  0.000000e+00  \n",
      "8        31.6493          0.000000e+00  \n",
      "10       31.6493          0.000000e+00  \n",
      "11       31.6493          0.000000e+00  \n",
      "13       31.6493       0  0.000000e+00  \n",
      "14       31.6493       0  0.000000e+00  \n",
      "15       31.6493          0.000000e+00  \n",
      "16       31.6493       0  5.329070e-14  \n",
      "17       31.6493          0.000000e+00  \n",
      "19       31.6493          0.000000e+00  \n",
      "20       31.6493          0.000000e+00  \n",
      "21       31.6493          0.000000e+00  \n",
      "24       31.6493       0  0.000000e+00  \n",
      "25       31.6493       0  0.000000e+00  \n",
      "26       31.6493       0  0.000000e+00  \n",
      "27       31.6493          0.000000e+00  \n",
      "28       31.6493       0  5.329070e-14  \n",
      "29       31.6493          0.000000e+00  \n",
      "31       31.6493          0.000000e+00  \n",
      "32       31.6493          0.000000e+00  \n",
      "33       31.6493          0.000000e+00  \n",
      "34       31.6493          0.000000e+00  \n",
      "37       31.6493       0  0.000000e+00  \n",
      "...          ...     ...           ...  \n",
      "297316   39.3820          0.000000e+00  \n",
      "297316   39.3820       0  0.000000e+00  \n",
      "297317   39.3820          0.000000e+00  \n",
      "297318   39.3820          0.000000e+00  \n",
      "297318   39.3820       0  0.000000e+00  \n",
      "297319   39.3820          0.000000e+00  \n",
      "297319   39.3820       0  0.000000e+00  \n",
      "297321   39.3820          0.000000e+00  \n",
      "297321   39.3820          0.000000e+00  \n",
      "297321   39.3820       0  0.000000e+00  \n",
      "297322   39.3820          0.000000e+00  \n",
      "297322   39.3820       0  0.000000e+00  \n",
      "297323   39.3820          0.000000e+00  \n",
      "297325   39.3820          0.000000e+00  \n",
      "297326   39.3820          0.000000e+00  \n",
      "297326   39.3820       0  0.000000e+00  \n",
      "297327   39.3820          0.000000e+00  \n",
      "297327   39.3820       0  0.000000e+00  \n",
      "297328   39.3820          0.000000e+00  \n",
      "297328   39.3820       0  0.000000e+00  \n",
      "297329   39.3820          0.000000e+00  \n",
      "297329   39.3820       0  0.000000e+00  \n",
      "297330   39.3820          0.000000e+00  \n",
      "297330   39.3820       0  0.000000e+00  \n",
      "297331   39.3820          0.000000e+00  \n",
      "297331   39.3820       0  0.000000e+00  \n",
      "297331   39.3820          0.000000e+00  \n",
      "297331   39.3820       0  0.000000e+00  \n",
      "297332   39.3820          0.000000e+00  \n",
      "297332   39.3820       0  0.000000e+00  \n",
      "\n",
      "[398197 rows x 14 columns]\n"
     ]
    }
   ],
   "source": [
    "print(f\"unique rnti\\'s: {np.unique(rxDF_scenario['rnti'])}\")\n",
    "print(f\"\\n\\nNumber of unique rnti's: {len(np.unique(rxDF_scenario['rnti']))}\")\n",
    "\n",
    "print(\"\\n\\n RNTI 1:\")\n",
    "print(rxDF_scenario[rxDF_scenario['rnti'] == 1])"
   ]
  },
  {
   "cell_type": "code",
   "execution_count": 29,
   "metadata": {
    "collapsed": true,
    "scrolled": true
   },
   "outputs": [],
   "source": [
    "cellIdGroupedRBs = rxDF_scenario.groupby(['cellId'])\n",
    "rntiCellIdGrouped = rxDF_scenario.groupby(['cellId', 'rnti'])\n",
    "rntiGrouped = rxDF_scenario.groupby(['rnti'])\n",
    "rntiModeGrouped = rxDF_scenario.groupby(['mode', 'rnti'])"
   ]
  },
  {
   "cell_type": "code",
   "execution_count": 30,
   "metadata": {
    "collapsed": false
   },
   "outputs": [
    {
     "name": "stdout",
     "output_type": "stream",
     "text": [
      "1\n",
      "1\n",
      "1\n",
      "2\n"
     ]
    }
   ],
   "source": [
    "print(len(cellIdGroupedRBs.groups))\n",
    "print(len(rntiCellIdGrouped.groups))\n",
    "print(len(rntiGrouped.groups))\n",
    "print(len(rntiModeGrouped.groups))"
   ]
  },
  {
   "cell_type": "code",
   "execution_count": 31,
   "metadata": {
    "collapsed": false
   },
   "outputs": [
    {
     "data": {
      "text/plain": [
       "<matplotlib.axes._subplots.AxesSubplot at 0x7fcf5fdc6080>"
      ]
     },
     "execution_count": 31,
     "metadata": {},
     "output_type": "execute_result"
    },
    {
     "data": {
      "image/png": "[encoded data removed]",
      "text/plain": [
       "<Figure size 432x288 with 1 Axes>"
      ]
     },
     "metadata": {
      "needs_background": "light"
     },
     "output_type": "display_data"
    }
   ],
   "source": [
    "rntiModeGrouped.get_group(('DL', 1))['SINR(dB)'].plot(style='.')\n",
    "rntiModeGrouped.get_group(('UL', 1))['SINR(dB)'].plot(style='.')"
   ]
  },
  {
   "cell_type": "code",
   "execution_count": 39,
   "metadata": {
    "collapsed": false
   },
   "outputs": [
    {
     "data": {
      "text/plain": [
       "<matplotlib.axes._subplots.AxesSubplot at 0x7fcf637fdba8>"
      ]
     },
     "execution_count": 39,
     "metadata": {},
     "output_type": "execute_result"
    },
    {
     "data": {
      "image/png": "[encoded data removed]",
      "text/plain": [
       "<Figure size 432x288 with 2 Axes>"
      ]
     },
     "metadata": {
      "needs_background": "light"
     },
     "output_type": "display_data"
    }
   ],
   "source": [
    "#for grp in rntiGrouped.groups:\n",
    "ax = rntiGrouped.get_group(1)['SINR(dB)'].plot(style='.')\n",
    "rttDF_scenario['new_RTT'].plot(secondary_y=True, style='.')"
   ]
  },
  {
   "cell_type": "code",
   "execution_count": 33,
   "metadata": {
    "collapsed": false
   },
   "outputs": [
    {
     "data": {
      "text/plain": [
       "<matplotlib.axes._subplots.AxesSubplot at 0x7fcf600dbc50>"
      ]
     },
     "execution_count": 33,
     "metadata": {},
     "output_type": "execute_result"
    },
    {
     "data": {
      "image/png": "[encoded data removed]",
      "text/plain": [
       "<Figure size 432x288 with 1 Axes>"
      ]
     },
     "metadata": {
      "needs_background": "light"
     },
     "output_type": "display_data"
    }
   ],
   "source": [
    "#for grp in rntiGrouped.groups:\n",
    "rttDF_scenario['new_RTT'].plot(style='.')"
   ]
  },
  {
   "cell_type": "code",
   "execution_count": 38,
   "metadata": {
    "collapsed": false
   },
   "outputs": [
    {
     "data": {
      "text/plain": [
       "<matplotlib.axes._subplots.AxesSubplot at 0x7fcf638ce470>"
      ]
     },
     "execution_count": 38,
     "metadata": {},
     "output_type": "execute_result"
    },
    {
     "data": {
      "image/png": "[encoded data removed]",
      "text/plain": [
       "<Figure size 432x288 with 2 Axes>"
      ]
     },
     "metadata": {
      "needs_background": "light"
     },
     "output_type": "display_data"
    }
   ],
   "source": [
    "ax = rntiGrouped.get_group(1)['SINR(dB)'].plot(style='.')\n",
    "cwndDF_scenario['new_CWND'].plot(secondary_y=True, style='.')"
   ]
  },
  {
   "cell_type": "code",
   "execution_count": 35,
   "metadata": {
    "collapsed": false
   },
   "outputs": [
    {
     "data": {
      "text/plain": [
       "<matplotlib.axes._subplots.AxesSubplot at 0x7fcf63920c18>"
      ]
     },
     "execution_count": 35,
     "metadata": {},
     "output_type": "execute_result"
    },
    {
     "data": {
      "image/png": "[encoded data removed]",
      "text/plain": [
       "<Figure size 432x288 with 1 Axes>"
      ]
     },
     "metadata": {
      "needs_background": "light"
     },
     "output_type": "display_data"
    }
   ],
   "source": [
    "cwndDF_scenario['new_CWND'].plot(style='.')"
   ]
  },
  {
   "cell_type": "code",
   "execution_count": 36,
   "metadata": {
    "collapsed": false
   },
   "outputs": [
    {
     "data": {
      "text/plain": [
       "<matplotlib.axes._subplots.AxesSubplot at 0x7fcf583e1550>"
      ]
     },
     "execution_count": 36,
     "metadata": {},
     "output_type": "execute_result"
    },
    {
     "data": {
      "image/png": "[encoded data removed]",
      "text/plain": [
       "<Figure size 432x288 with 1 Axes>"
      ]
     },
     "metadata": {
      "needs_background": "light"
     },
     "output_type": "display_data"
    }
   ],
   "source": [
    "dataDF_scenario['PKG_SIZE'].plot(style='.')"
   ]
  }
 ],
 "metadata": {
  "kernelspec": {
   "display_name": "Python 3",
   "language": "python",
   "name": "python3"
  },
  "language_info": {
   "codemirror_mode": {
    "name": "ipython",
    "version": 3
   },
   "file_extension": ".py",
   "mimetype": "text/x-python",
   "name": "python",
   "nbconvert_exporter": "python",
   "pygments_lexer": "ipython3",
   "version": "3.6.6"
  }
 },
 "nbformat": 4,
 "nbformat_minor": 2
}
